{
 "cells": [
  {
   "cell_type": "code",
   "execution_count": 1,
   "id": "821725ba",
   "metadata": {
    "_cell_guid": "b1076dfc-b9ad-4769-8c92-a6c4dae69d19",
    "_uuid": "8f2839f25d086af736a60e9eeb907d3b93b6e0e5",
    "execution": {
     "iopub.execute_input": "2022-05-07T14:16:47.259544Z",
     "iopub.status.busy": "2022-05-07T14:16:47.258315Z",
     "iopub.status.idle": "2022-05-07T14:16:48.884658Z",
     "shell.execute_reply": "2022-05-07T14:16:48.883971Z",
     "shell.execute_reply.started": "2022-05-07T14:12:30.005074Z"
    },
    "papermill": {
     "duration": 1.682008,
     "end_time": "2022-05-07T14:16:48.884993",
     "exception": false,
     "start_time": "2022-05-07T14:16:47.202985",
     "status": "completed"
    },
    "tags": []
   },
   "outputs": [
    {
     "name": "stdout",
     "output_type": "stream",
     "text": [
      "/kaggle/input/netflix-shows/netflix_titles.csv\n"
     ]
    }
   ],
   "source": [
    "# This Python 3 environment comes with many helpful analytics libraries installed\n",
    "# It is defined by the kaggle/python Docker image: https://github.com/kaggle/docker-python\n",
    "# For example, here's several helpful packages to load\n",
    "\n",
    "import numpy as np # linear algebra\n",
    "import pandas as pd # data processing, CSV file I/O (e.g. pd.read_csv)\n",
    "import plotly.express as px\n",
    "import plotly.graph_objects as go\n",
    "\n",
    "\n",
    "# Input data files are available in the read-only \"../input/\" directory\n",
    "# For example, running this (by clicking run or pressing Shift+Enter) will list all files under the input directory\n",
    "\n",
    "import os\n",
    "for dirname, _, filenames in os.walk('/kaggle/input'):\n",
    "    for filename in filenames:\n",
    "        print(os.path.join(dirname, filename))\n",
    "\n",
    "# You can write up to 20GB to the current directory (/kaggle/working/) that gets preserved as output when you create a version using \"Save & Run All\" \n",
    "# You can also write temporary files to /kaggle/temp/, but they won't be saved outside of the current session"
   ]
  },
  {
   "cell_type": "markdown",
   "id": "435e675f",
   "metadata": {
    "papermill": {
     "duration": 0.053386,
     "end_time": "2022-05-07T14:16:48.989697",
     "exception": false,
     "start_time": "2022-05-07T14:16:48.936311",
     "status": "completed"
    },
    "tags": []
   },
   "source": [
    "# Netflix Exploratory Data Analysis****\n",
    "\n",
    "The Goal of this analysis is to uncover any insights or trends in the catalogue of films and TV shows available on the Netflix website.\n",
    "\n",
    "First I will import the dataset that to see the parameters I have to work with."
   ]
  },
  {
   "cell_type": "code",
   "execution_count": 2,
   "id": "9c1d574b",
   "metadata": {
    "execution": {
     "iopub.execute_input": "2022-05-07T14:16:49.095983Z",
     "iopub.status.busy": "2022-05-07T14:16:49.095329Z",
     "iopub.status.idle": "2022-05-07T14:16:49.222271Z",
     "shell.execute_reply": "2022-05-07T14:16:49.221693Z",
     "shell.execute_reply.started": "2022-05-07T14:12:30.014925Z"
    },
    "papermill": {
     "duration": 0.180122,
     "end_time": "2022-05-07T14:16:49.222465",
     "exception": false,
     "start_time": "2022-05-07T14:16:49.042343",
     "status": "completed"
    },
    "tags": []
   },
   "outputs": [],
   "source": [
    "df = pd.read_csv(\"/kaggle/input/netflix-shows/netflix_titles.csv\")"
   ]
  },
  {
   "cell_type": "code",
   "execution_count": 3,
   "id": "98ac4d2a",
   "metadata": {
    "execution": {
     "iopub.execute_input": "2022-05-07T14:16:49.326763Z",
     "iopub.status.busy": "2022-05-07T14:16:49.326044Z",
     "iopub.status.idle": "2022-05-07T14:16:49.349600Z",
     "shell.execute_reply": "2022-05-07T14:16:49.350135Z",
     "shell.execute_reply.started": "2022-05-07T14:12:30.112297Z"
    },
    "papermill": {
     "duration": 0.077293,
     "end_time": "2022-05-07T14:16:49.350300",
     "exception": false,
     "start_time": "2022-05-07T14:16:49.273007",
     "status": "completed"
    },
    "tags": []
   },
   "outputs": [
    {
     "data": {
      "text/html": [
       "<div>\n",
       "<style scoped>\n",
       "    .dataframe tbody tr th:only-of-type {\n",
       "        vertical-align: middle;\n",
       "    }\n",
       "\n",
       "    .dataframe tbody tr th {\n",
       "        vertical-align: top;\n",
       "    }\n",
       "\n",
       "    .dataframe thead th {\n",
       "        text-align: right;\n",
       "    }\n",
       "</style>\n",
       "<table border=\"1\" class=\"dataframe\">\n",
       "  <thead>\n",
       "    <tr style=\"text-align: right;\">\n",
       "      <th></th>\n",
       "      <th>show_id</th>\n",
       "      <th>type</th>\n",
       "      <th>title</th>\n",
       "      <th>director</th>\n",
       "      <th>cast</th>\n",
       "      <th>country</th>\n",
       "      <th>date_added</th>\n",
       "      <th>release_year</th>\n",
       "      <th>rating</th>\n",
       "      <th>duration</th>\n",
       "      <th>listed_in</th>\n",
       "      <th>description</th>\n",
       "    </tr>\n",
       "  </thead>\n",
       "  <tbody>\n",
       "    <tr>\n",
       "      <th>0</th>\n",
       "      <td>s1</td>\n",
       "      <td>Movie</td>\n",
       "      <td>Dick Johnson Is Dead</td>\n",
       "      <td>Kirsten Johnson</td>\n",
       "      <td>NaN</td>\n",
       "      <td>United States</td>\n",
       "      <td>September 25, 2021</td>\n",
       "      <td>2020</td>\n",
       "      <td>PG-13</td>\n",
       "      <td>90 min</td>\n",
       "      <td>Documentaries</td>\n",
       "      <td>As her father nears the end of his life, filmm...</td>\n",
       "    </tr>\n",
       "    <tr>\n",
       "      <th>1</th>\n",
       "      <td>s2</td>\n",
       "      <td>TV Show</td>\n",
       "      <td>Blood &amp; Water</td>\n",
       "      <td>NaN</td>\n",
       "      <td>Ama Qamata, Khosi Ngema, Gail Mabalane, Thaban...</td>\n",
       "      <td>South Africa</td>\n",
       "      <td>September 24, 2021</td>\n",
       "      <td>2021</td>\n",
       "      <td>TV-MA</td>\n",
       "      <td>2 Seasons</td>\n",
       "      <td>International TV Shows, TV Dramas, TV Mysteries</td>\n",
       "      <td>After crossing paths at a party, a Cape Town t...</td>\n",
       "    </tr>\n",
       "    <tr>\n",
       "      <th>2</th>\n",
       "      <td>s3</td>\n",
       "      <td>TV Show</td>\n",
       "      <td>Ganglands</td>\n",
       "      <td>Julien Leclercq</td>\n",
       "      <td>Sami Bouajila, Tracy Gotoas, Samuel Jouy, Nabi...</td>\n",
       "      <td>NaN</td>\n",
       "      <td>September 24, 2021</td>\n",
       "      <td>2021</td>\n",
       "      <td>TV-MA</td>\n",
       "      <td>1 Season</td>\n",
       "      <td>Crime TV Shows, International TV Shows, TV Act...</td>\n",
       "      <td>To protect his family from a powerful drug lor...</td>\n",
       "    </tr>\n",
       "    <tr>\n",
       "      <th>3</th>\n",
       "      <td>s4</td>\n",
       "      <td>TV Show</td>\n",
       "      <td>Jailbirds New Orleans</td>\n",
       "      <td>NaN</td>\n",
       "      <td>NaN</td>\n",
       "      <td>NaN</td>\n",
       "      <td>September 24, 2021</td>\n",
       "      <td>2021</td>\n",
       "      <td>TV-MA</td>\n",
       "      <td>1 Season</td>\n",
       "      <td>Docuseries, Reality TV</td>\n",
       "      <td>Feuds, flirtations and toilet talk go down amo...</td>\n",
       "    </tr>\n",
       "    <tr>\n",
       "      <th>4</th>\n",
       "      <td>s5</td>\n",
       "      <td>TV Show</td>\n",
       "      <td>Kota Factory</td>\n",
       "      <td>NaN</td>\n",
       "      <td>Mayur More, Jitendra Kumar, Ranjan Raj, Alam K...</td>\n",
       "      <td>India</td>\n",
       "      <td>September 24, 2021</td>\n",
       "      <td>2021</td>\n",
       "      <td>TV-MA</td>\n",
       "      <td>2 Seasons</td>\n",
       "      <td>International TV Shows, Romantic TV Shows, TV ...</td>\n",
       "      <td>In a city of coaching centers known to train I...</td>\n",
       "    </tr>\n",
       "  </tbody>\n",
       "</table>\n",
       "</div>"
      ],
      "text/plain": [
       "  show_id     type                  title         director  \\\n",
       "0      s1    Movie   Dick Johnson Is Dead  Kirsten Johnson   \n",
       "1      s2  TV Show          Blood & Water              NaN   \n",
       "2      s3  TV Show              Ganglands  Julien Leclercq   \n",
       "3      s4  TV Show  Jailbirds New Orleans              NaN   \n",
       "4      s5  TV Show           Kota Factory              NaN   \n",
       "\n",
       "                                                cast        country  \\\n",
       "0                                                NaN  United States   \n",
       "1  Ama Qamata, Khosi Ngema, Gail Mabalane, Thaban...   South Africa   \n",
       "2  Sami Bouajila, Tracy Gotoas, Samuel Jouy, Nabi...            NaN   \n",
       "3                                                NaN            NaN   \n",
       "4  Mayur More, Jitendra Kumar, Ranjan Raj, Alam K...          India   \n",
       "\n",
       "           date_added  release_year rating   duration  \\\n",
       "0  September 25, 2021          2020  PG-13     90 min   \n",
       "1  September 24, 2021          2021  TV-MA  2 Seasons   \n",
       "2  September 24, 2021          2021  TV-MA   1 Season   \n",
       "3  September 24, 2021          2021  TV-MA   1 Season   \n",
       "4  September 24, 2021          2021  TV-MA  2 Seasons   \n",
       "\n",
       "                                           listed_in  \\\n",
       "0                                      Documentaries   \n",
       "1    International TV Shows, TV Dramas, TV Mysteries   \n",
       "2  Crime TV Shows, International TV Shows, TV Act...   \n",
       "3                             Docuseries, Reality TV   \n",
       "4  International TV Shows, Romantic TV Shows, TV ...   \n",
       "\n",
       "                                         description  \n",
       "0  As her father nears the end of his life, filmm...  \n",
       "1  After crossing paths at a party, a Cape Town t...  \n",
       "2  To protect his family from a powerful drug lor...  \n",
       "3  Feuds, flirtations and toilet talk go down amo...  \n",
       "4  In a city of coaching centers known to train I...  "
      ]
     },
     "execution_count": 3,
     "metadata": {},
     "output_type": "execute_result"
    }
   ],
   "source": [
    "df.head()"
   ]
  },
  {
   "cell_type": "code",
   "execution_count": 4,
   "id": "0b5a6834",
   "metadata": {
    "execution": {
     "iopub.execute_input": "2022-05-07T14:16:49.454643Z",
     "iopub.status.busy": "2022-05-07T14:16:49.454007Z",
     "iopub.status.idle": "2022-05-07T14:16:49.460971Z",
     "shell.execute_reply": "2022-05-07T14:16:49.460473Z",
     "shell.execute_reply.started": "2022-05-07T14:12:30.133980Z"
    },
    "papermill": {
     "duration": 0.060274,
     "end_time": "2022-05-07T14:16:49.461109",
     "exception": false,
     "start_time": "2022-05-07T14:16:49.400835",
     "status": "completed"
    },
    "tags": []
   },
   "outputs": [
    {
     "data": {
      "text/plain": [
       "Index(['show_id', 'type', 'title', 'director', 'cast', 'country', 'date_added',\n",
       "       'release_year', 'rating', 'duration', 'listed_in', 'description'],\n",
       "      dtype='object')"
      ]
     },
     "execution_count": 4,
     "metadata": {},
     "output_type": "execute_result"
    }
   ],
   "source": [
    "df.columns"
   ]
  },
  {
   "cell_type": "markdown",
   "id": "1537bd47",
   "metadata": {
    "papermill": {
     "duration": 0.050467,
     "end_time": "2022-05-07T14:16:49.562327",
     "exception": false,
     "start_time": "2022-05-07T14:16:49.511860",
     "status": "completed"
    },
    "tags": []
   },
   "source": [
    "Now we have the data imported, the above line of code shows the columns that we have to work with many of which are self explanatory, but I will highlight a the below:\n",
    "* Show ID - This tells us what season the show is, if a TV show \n",
    "* Type - Whether it's a Movie or TV-Show\n",
    "* Listed in - The category that the TV-Show  or film falls under e.g. Documentary or Action\n",
    "* Rating - the audiences that the film or TV-Show is safe for vieiwing for \n",
    "\n",
    "Now that the data is imported, the next step is to Process or clean the data for analysis, I will begin first by checking for any missing values."
   ]
  },
  {
   "cell_type": "code",
   "execution_count": 5,
   "id": "322dcb04",
   "metadata": {
    "execution": {
     "iopub.execute_input": "2022-05-07T14:16:49.680247Z",
     "iopub.status.busy": "2022-05-07T14:16:49.679214Z",
     "iopub.status.idle": "2022-05-07T14:16:49.681066Z",
     "shell.execute_reply": "2022-05-07T14:16:49.681679Z",
     "shell.execute_reply.started": "2022-05-07T14:12:30.143370Z"
    },
    "papermill": {
     "duration": 0.06884,
     "end_time": "2022-05-07T14:16:49.681849",
     "exception": false,
     "start_time": "2022-05-07T14:16:49.613009",
     "status": "completed"
    },
    "tags": []
   },
   "outputs": [],
   "source": [
    "missing_data = df.isnull()"
   ]
  },
  {
   "cell_type": "code",
   "execution_count": 6,
   "id": "eb1c09be",
   "metadata": {
    "execution": {
     "iopub.execute_input": "2022-05-07T14:16:49.800365Z",
     "iopub.status.busy": "2022-05-07T14:16:49.799508Z",
     "iopub.status.idle": "2022-05-07T14:16:49.803260Z",
     "shell.execute_reply": "2022-05-07T14:16:49.802789Z",
     "shell.execute_reply.started": "2022-05-07T14:12:30.166525Z"
    },
    "papermill": {
     "duration": 0.070116,
     "end_time": "2022-05-07T14:16:49.803400",
     "exception": false,
     "start_time": "2022-05-07T14:16:49.733284",
     "status": "completed"
    },
    "tags": []
   },
   "outputs": [
    {
     "data": {
      "text/html": [
       "<div>\n",
       "<style scoped>\n",
       "    .dataframe tbody tr th:only-of-type {\n",
       "        vertical-align: middle;\n",
       "    }\n",
       "\n",
       "    .dataframe tbody tr th {\n",
       "        vertical-align: top;\n",
       "    }\n",
       "\n",
       "    .dataframe thead th {\n",
       "        text-align: right;\n",
       "    }\n",
       "</style>\n",
       "<table border=\"1\" class=\"dataframe\">\n",
       "  <thead>\n",
       "    <tr style=\"text-align: right;\">\n",
       "      <th></th>\n",
       "      <th>show_id</th>\n",
       "      <th>type</th>\n",
       "      <th>title</th>\n",
       "      <th>director</th>\n",
       "      <th>cast</th>\n",
       "      <th>country</th>\n",
       "      <th>date_added</th>\n",
       "      <th>release_year</th>\n",
       "      <th>rating</th>\n",
       "      <th>duration</th>\n",
       "      <th>listed_in</th>\n",
       "      <th>description</th>\n",
       "    </tr>\n",
       "  </thead>\n",
       "  <tbody>\n",
       "    <tr>\n",
       "      <th>0</th>\n",
       "      <td>False</td>\n",
       "      <td>False</td>\n",
       "      <td>False</td>\n",
       "      <td>False</td>\n",
       "      <td>True</td>\n",
       "      <td>False</td>\n",
       "      <td>False</td>\n",
       "      <td>False</td>\n",
       "      <td>False</td>\n",
       "      <td>False</td>\n",
       "      <td>False</td>\n",
       "      <td>False</td>\n",
       "    </tr>\n",
       "    <tr>\n",
       "      <th>1</th>\n",
       "      <td>False</td>\n",
       "      <td>False</td>\n",
       "      <td>False</td>\n",
       "      <td>True</td>\n",
       "      <td>False</td>\n",
       "      <td>False</td>\n",
       "      <td>False</td>\n",
       "      <td>False</td>\n",
       "      <td>False</td>\n",
       "      <td>False</td>\n",
       "      <td>False</td>\n",
       "      <td>False</td>\n",
       "    </tr>\n",
       "    <tr>\n",
       "      <th>2</th>\n",
       "      <td>False</td>\n",
       "      <td>False</td>\n",
       "      <td>False</td>\n",
       "      <td>False</td>\n",
       "      <td>False</td>\n",
       "      <td>True</td>\n",
       "      <td>False</td>\n",
       "      <td>False</td>\n",
       "      <td>False</td>\n",
       "      <td>False</td>\n",
       "      <td>False</td>\n",
       "      <td>False</td>\n",
       "    </tr>\n",
       "    <tr>\n",
       "      <th>3</th>\n",
       "      <td>False</td>\n",
       "      <td>False</td>\n",
       "      <td>False</td>\n",
       "      <td>True</td>\n",
       "      <td>True</td>\n",
       "      <td>True</td>\n",
       "      <td>False</td>\n",
       "      <td>False</td>\n",
       "      <td>False</td>\n",
       "      <td>False</td>\n",
       "      <td>False</td>\n",
       "      <td>False</td>\n",
       "    </tr>\n",
       "    <tr>\n",
       "      <th>4</th>\n",
       "      <td>False</td>\n",
       "      <td>False</td>\n",
       "      <td>False</td>\n",
       "      <td>True</td>\n",
       "      <td>False</td>\n",
       "      <td>False</td>\n",
       "      <td>False</td>\n",
       "      <td>False</td>\n",
       "      <td>False</td>\n",
       "      <td>False</td>\n",
       "      <td>False</td>\n",
       "      <td>False</td>\n",
       "    </tr>\n",
       "  </tbody>\n",
       "</table>\n",
       "</div>"
      ],
      "text/plain": [
       "   show_id   type  title  director   cast  country  date_added  release_year  \\\n",
       "0    False  False  False     False   True    False       False         False   \n",
       "1    False  False  False      True  False    False       False         False   \n",
       "2    False  False  False     False  False     True       False         False   \n",
       "3    False  False  False      True   True     True       False         False   \n",
       "4    False  False  False      True  False    False       False         False   \n",
       "\n",
       "   rating  duration  listed_in  description  \n",
       "0   False     False      False        False  \n",
       "1   False     False      False        False  \n",
       "2   False     False      False        False  \n",
       "3   False     False      False        False  \n",
       "4   False     False      False        False  "
      ]
     },
     "execution_count": 6,
     "metadata": {},
     "output_type": "execute_result"
    }
   ],
   "source": [
    "missing_data.head()"
   ]
  },
  {
   "cell_type": "markdown",
   "id": "c0a94119",
   "metadata": {
    "papermill": {
     "duration": 0.050935,
     "end_time": "2022-05-07T14:16:49.906933",
     "exception": false,
     "start_time": "2022-05-07T14:16:49.855998",
     "status": "completed"
    },
    "tags": []
   },
   "source": [
    "Above I have created a dataframe that tells me for which values are missing, values that are missing are True and those which are not are False. This can be difficult to view so to make it easier to see, let's count the amount of missing data in each column."
   ]
  },
  {
   "cell_type": "code",
   "execution_count": 7,
   "id": "b0818bda",
   "metadata": {
    "execution": {
     "iopub.execute_input": "2022-05-07T14:16:50.014049Z",
     "iopub.status.busy": "2022-05-07T14:16:50.013363Z",
     "iopub.status.idle": "2022-05-07T14:16:50.038597Z",
     "shell.execute_reply": "2022-05-07T14:16:50.037925Z",
     "shell.execute_reply.started": "2022-05-07T14:12:30.186716Z"
    },
    "papermill": {
     "duration": 0.080546,
     "end_time": "2022-05-07T14:16:50.038753",
     "exception": false,
     "start_time": "2022-05-07T14:16:49.958207",
     "status": "completed"
    },
    "tags": []
   },
   "outputs": [
    {
     "name": "stdout",
     "output_type": "stream",
     "text": [
      "show_id\n",
      "False    8807\n",
      "Name: show_id, dtype: int64\n",
      "\n",
      "type\n",
      "False    8807\n",
      "Name: type, dtype: int64\n",
      "\n",
      "title\n",
      "False    8807\n",
      "Name: title, dtype: int64\n",
      "\n",
      "director\n",
      "False    6173\n",
      "True     2634\n",
      "Name: director, dtype: int64\n",
      "\n",
      "cast\n",
      "False    7982\n",
      "True      825\n",
      "Name: cast, dtype: int64\n",
      "\n",
      "country\n",
      "False    7976\n",
      "True      831\n",
      "Name: country, dtype: int64\n",
      "\n",
      "date_added\n",
      "False    8797\n",
      "True       10\n",
      "Name: date_added, dtype: int64\n",
      "\n",
      "release_year\n",
      "False    8807\n",
      "Name: release_year, dtype: int64\n",
      "\n",
      "rating\n",
      "False    8803\n",
      "True        4\n",
      "Name: rating, dtype: int64\n",
      "\n",
      "duration\n",
      "False    8804\n",
      "True        3\n",
      "Name: duration, dtype: int64\n",
      "\n",
      "listed_in\n",
      "False    8807\n",
      "Name: listed_in, dtype: int64\n",
      "\n",
      "description\n",
      "False    8807\n",
      "Name: description, dtype: int64\n",
      "\n"
     ]
    }
   ],
   "source": [
    "for column in missing_data.columns.tolist():\n",
    "    print(column)\n",
    "    print(missing_data[column].value_counts())\n",
    "    print(\"\")"
   ]
  },
  {
   "cell_type": "markdown",
   "id": "9b12b962",
   "metadata": {
    "papermill": {
     "duration": 0.051402,
     "end_time": "2022-05-07T14:16:50.142108",
     "exception": false,
     "start_time": "2022-05-07T14:16:50.090706",
     "status": "completed"
    },
    "tags": []
   },
   "source": [
    "Now I can see that there a missing values in the columns; \n",
    "* Director\n",
    "* Cast\n",
    "* Country\n",
    "* Date-added\n",
    "* Rating\n",
    "* Duration\n",
    "\n",
    "For some columns I will ignore these missing values, e.g cast and director. But I will fix some of the other columns.\n",
    "First Ratings:"
   ]
  },
  {
   "cell_type": "markdown",
   "id": "b0517dc1",
   "metadata": {
    "papermill": {
     "duration": 0.052349,
     "end_time": "2022-05-07T14:16:50.246545",
     "exception": false,
     "start_time": "2022-05-07T14:16:50.194196",
     "status": "completed"
    },
    "tags": []
   },
   "source": []
  },
  {
   "cell_type": "code",
   "execution_count": 8,
   "id": "c9e9685e",
   "metadata": {
    "execution": {
     "iopub.execute_input": "2022-05-07T14:16:50.358359Z",
     "iopub.status.busy": "2022-05-07T14:16:50.354630Z",
     "iopub.status.idle": "2022-05-07T14:16:50.364045Z",
     "shell.execute_reply": "2022-05-07T14:16:50.364609Z",
     "shell.execute_reply.started": "2022-05-07T14:12:30.213115Z"
    },
    "papermill": {
     "duration": 0.066321,
     "end_time": "2022-05-07T14:16:50.364782",
     "exception": false,
     "start_time": "2022-05-07T14:16:50.298461",
     "status": "completed"
    },
    "tags": []
   },
   "outputs": [
    {
     "data": {
      "text/plain": [
       "TV-MA       3207\n",
       "TV-14       2160\n",
       "TV-PG        863\n",
       "R            799\n",
       "PG-13        490\n",
       "TV-Y7        334\n",
       "TV-Y         307\n",
       "PG           287\n",
       "TV-G         220\n",
       "NR            80\n",
       "G             41\n",
       "TV-Y7-FV       6\n",
       "NC-17          3\n",
       "UR             3\n",
       "74 min         1\n",
       "84 min         1\n",
       "66 min         1\n",
       "Name: rating, dtype: int64"
      ]
     },
     "execution_count": 8,
     "metadata": {},
     "output_type": "execute_result"
    }
   ],
   "source": [
    "df['rating'].value_counts().sort_values(ascending = False)"
   ]
  },
  {
   "cell_type": "markdown",
   "id": "bbfb98aa",
   "metadata": {
    "papermill": {
     "duration": 0.052448,
     "end_time": "2022-05-07T14:16:50.469788",
     "exception": false,
     "start_time": "2022-05-07T14:16:50.417340",
     "status": "completed"
    },
    "tags": []
   },
   "source": [
    "We can see here that some of the ratings have durations instead, this may be an error where the data has been transposed"
   ]
  },
  {
   "cell_type": "code",
   "execution_count": 9,
   "id": "33429014",
   "metadata": {
    "execution": {
     "iopub.execute_input": "2022-05-07T14:16:50.579997Z",
     "iopub.status.busy": "2022-05-07T14:16:50.579363Z",
     "iopub.status.idle": "2022-05-07T14:16:50.588576Z",
     "shell.execute_reply": "2022-05-07T14:16:50.589124Z",
     "shell.execute_reply.started": "2022-05-07T14:12:30.225502Z"
    },
    "papermill": {
     "duration": 0.065999,
     "end_time": "2022-05-07T14:16:50.589293",
     "exception": false,
     "start_time": "2022-05-07T14:16:50.523294",
     "status": "completed"
    },
    "tags": []
   },
   "outputs": [
    {
     "data": {
      "text/plain": [
       "1 Season     1793\n",
       "2 Seasons     425\n",
       "3 Seasons     199\n",
       "90 min        152\n",
       "94 min        146\n",
       "             ... \n",
       "167 min         1\n",
       "43 min          1\n",
       "196 min         1\n",
       "200 min         1\n",
       "191 min         1\n",
       "Name: duration, Length: 220, dtype: int64"
      ]
     },
     "execution_count": 9,
     "metadata": {},
     "output_type": "execute_result"
    }
   ],
   "source": [
    "df['duration'].value_counts().sort_values(ascending=False)\n"
   ]
  },
  {
   "cell_type": "markdown",
   "id": "d0769acc",
   "metadata": {
    "papermill": {
     "duration": 0.052669,
     "end_time": "2022-05-07T14:16:50.695236",
     "exception": false,
     "start_time": "2022-05-07T14:16:50.642567",
     "status": "completed"
    },
    "tags": []
   },
   "source": [
    "Let's isolate these rows and see what has happened."
   ]
  },
  {
   "cell_type": "code",
   "execution_count": 10,
   "id": "41d93969",
   "metadata": {
    "execution": {
     "iopub.execute_input": "2022-05-07T14:16:50.805548Z",
     "iopub.status.busy": "2022-05-07T14:16:50.804870Z",
     "iopub.status.idle": "2022-05-07T14:16:50.832778Z",
     "shell.execute_reply": "2022-05-07T14:16:50.833515Z",
     "shell.execute_reply.started": "2022-05-07T14:12:30.242163Z"
    },
    "papermill": {
     "duration": 0.085441,
     "end_time": "2022-05-07T14:16:50.833770",
     "exception": false,
     "start_time": "2022-05-07T14:16:50.748329",
     "status": "completed"
    },
    "tags": []
   },
   "outputs": [
    {
     "name": "stdout",
     "output_type": "stream",
     "text": [
      "     show_id   type                                 title    director  \\\n",
      "5813   s5814  Movie  Louis C.K.: Live at the Comedy Store  Louis C.K.   \n",
      "\n",
      "            cast        country       date_added  release_year  rating  \\\n",
      "5813  Louis C.K.  United States  August 15, 2016          2015  66 min   \n",
      "\n",
      "     duration listed_in                                        description  \n",
      "5813      NaN    Movies  The comic puts his trademark hilarious/thought...  \n",
      "     show_id   type                  title    director        cast  \\\n",
      "5794   s5795  Movie  Louis C.K.: Hilarious  Louis C.K.  Louis C.K.   \n",
      "\n",
      "            country          date_added  release_year  rating duration  \\\n",
      "5794  United States  September 16, 2016          2010  84 min      NaN   \n",
      "\n",
      "     listed_in                                        description  \n",
      "5794    Movies  Emmy-winning comedy writer Louis C.K. brings h...  \n",
      "     show_id   type            title    director        cast        country  \\\n",
      "5541   s5542  Movie  Louis C.K. 2017  Louis C.K.  Louis C.K.  United States   \n",
      "\n",
      "         date_added  release_year  rating duration listed_in  \\\n",
      "5541  April 4, 2017          2017  74 min      NaN    Movies   \n",
      "\n",
      "                                            description  \n",
      "5541  Louis C.K. muses on religion, eternal love, gi...  \n"
     ]
    }
   ],
   "source": [
    "print(df.loc[df['rating'] == '66 min'])\n",
    "print(df.loc[df['rating'] == '84 min'])\n",
    "print(df.loc[df['rating'] == '74 min'])\n",
    "\n"
   ]
  },
  {
   "cell_type": "markdown",
   "id": "f59fa503",
   "metadata": {
    "papermill": {
     "duration": 0.053164,
     "end_time": "2022-05-07T14:16:50.941880",
     "exception": false,
     "start_time": "2022-05-07T14:16:50.888716",
     "status": "completed"
    },
    "tags": []
   },
   "source": [
    "There seems to be an error with the titles by the comedian Louis CK, a quick look up on the Netflix website will tell us what the correct rating is for these shows."
   ]
  },
  {
   "cell_type": "code",
   "execution_count": 11,
   "id": "33e7a697",
   "metadata": {
    "execution": {
     "iopub.execute_input": "2022-05-07T14:16:51.053182Z",
     "iopub.status.busy": "2022-05-07T14:16:51.052411Z",
     "iopub.status.idle": "2022-05-07T14:16:51.055232Z",
     "shell.execute_reply": "2022-05-07T14:16:51.055762Z",
     "shell.execute_reply.started": "2022-05-07T14:12:30.276917Z"
    },
    "papermill": {
     "duration": 0.060415,
     "end_time": "2022-05-07T14:16:51.055942",
     "exception": false,
     "start_time": "2022-05-07T14:16:50.995527",
     "status": "completed"
    },
    "tags": []
   },
   "outputs": [],
   "source": [
    "#Louis C.K.: Live at the Comedy Store 1 hr 5 min (15 - tvma)\n",
    "#Louis C.K.: Hilarious 1 hr 23 min (18)\n",
    "#Louis C.K. 2017 1 hr 14 min (15 - tvma)\n"
   ]
  },
  {
   "cell_type": "markdown",
   "id": "2df56c8a",
   "metadata": {
    "papermill": {
     "duration": 0.053011,
     "end_time": "2022-05-07T14:16:51.163164",
     "exception": false,
     "start_time": "2022-05-07T14:16:51.110153",
     "status": "completed"
    },
    "tags": []
   },
   "source": [
    "Now that we have the correct rating we can now move the values for duration into the correct column and input the correct rating also"
   ]
  },
  {
   "cell_type": "code",
   "execution_count": 12,
   "id": "e137f154",
   "metadata": {
    "execution": {
     "iopub.execute_input": "2022-05-07T14:16:51.273633Z",
     "iopub.status.busy": "2022-05-07T14:16:51.272961Z",
     "iopub.status.idle": "2022-05-07T14:16:51.283168Z",
     "shell.execute_reply": "2022-05-07T14:16:51.282632Z",
     "shell.execute_reply.started": "2022-05-07T14:12:30.289209Z"
    },
    "papermill": {
     "duration": 0.066901,
     "end_time": "2022-05-07T14:16:51.283300",
     "exception": false,
     "start_time": "2022-05-07T14:16:51.216399",
     "status": "completed"
    },
    "tags": []
   },
   "outputs": [],
   "source": [
    "df.iloc[5813, df.columns.get_loc('duration')] = \"66 min\"\n",
    "df.iloc[5813, df.columns.get_loc('rating')] = \"TV-MA\"\n",
    "df.iloc[5794, df.columns.get_loc('duration')] = \"84 min\"\n",
    "df.iloc[5794, df.columns.get_loc('rating')] = \"TV-MA\"\n",
    "df.iloc[5541, df.columns.get_loc('duration')] = \"74 min\"\n",
    "df.iloc[5541, df.columns.get_loc('rating')] = \"TV-MA\""
   ]
  },
  {
   "cell_type": "code",
   "execution_count": 13,
   "id": "39a7b9b3",
   "metadata": {
    "execution": {
     "iopub.execute_input": "2022-05-07T14:16:51.393246Z",
     "iopub.status.busy": "2022-05-07T14:16:51.392600Z",
     "iopub.status.idle": "2022-05-07T14:16:51.399704Z",
     "shell.execute_reply": "2022-05-07T14:16:51.400198Z",
     "shell.execute_reply.started": "2022-05-07T14:12:30.307686Z"
    },
    "papermill": {
     "duration": 0.063747,
     "end_time": "2022-05-07T14:16:51.400366",
     "exception": false,
     "start_time": "2022-05-07T14:16:51.336619",
     "status": "completed"
    },
    "tags": []
   },
   "outputs": [
    {
     "data": {
      "text/plain": [
       "show_id                                                     s5542\n",
       "type                                                        Movie\n",
       "title                                             Louis C.K. 2017\n",
       "director                                               Louis C.K.\n",
       "cast                                                   Louis C.K.\n",
       "country                                             United States\n",
       "date_added                                          April 4, 2017\n",
       "release_year                                                 2017\n",
       "rating                                                      TV-MA\n",
       "duration                                                   74 min\n",
       "listed_in                                                  Movies\n",
       "description     Louis C.K. muses on religion, eternal love, gi...\n",
       "Name: 5541, dtype: object"
      ]
     },
     "execution_count": 13,
     "metadata": {},
     "output_type": "execute_result"
    }
   ],
   "source": [
    "df.iloc[5813]\n",
    "df.iloc[5794]\n",
    "df.iloc[5541]"
   ]
  },
  {
   "cell_type": "code",
   "execution_count": 14,
   "id": "e48c512c",
   "metadata": {
    "execution": {
     "iopub.execute_input": "2022-05-07T14:16:51.510944Z",
     "iopub.status.busy": "2022-05-07T14:16:51.510293Z",
     "iopub.status.idle": "2022-05-07T14:16:51.518533Z",
     "shell.execute_reply": "2022-05-07T14:16:51.519208Z",
     "shell.execute_reply.started": "2022-05-07T14:12:30.322614Z"
    },
    "papermill": {
     "duration": 0.065453,
     "end_time": "2022-05-07T14:16:51.519467",
     "exception": false,
     "start_time": "2022-05-07T14:16:51.454014",
     "status": "completed"
    },
    "tags": []
   },
   "outputs": [
    {
     "name": "stdout",
     "output_type": "stream",
     "text": [
      "0\n"
     ]
    }
   ],
   "source": [
    "print(df['duration'].isnull().sum())\n",
    "\n"
   ]
  },
  {
   "cell_type": "markdown",
   "id": "262bbe12",
   "metadata": {
    "papermill": {
     "duration": 0.053532,
     "end_time": "2022-05-07T14:16:51.627760",
     "exception": false,
     "start_time": "2022-05-07T14:16:51.574228",
     "status": "completed"
    },
    "tags": []
   },
   "source": [
    "We have dealt with mising values in the duration column, now let's turn our attention back to ratings column, rather than searching the titles of the missing values, instead I am going to replace the misisng values with the most common; TV-MA"
   ]
  },
  {
   "cell_type": "code",
   "execution_count": 15,
   "id": "bb21ce41",
   "metadata": {
    "execution": {
     "iopub.execute_input": "2022-05-07T14:16:51.739818Z",
     "iopub.status.busy": "2022-05-07T14:16:51.739155Z",
     "iopub.status.idle": "2022-05-07T14:16:51.744523Z",
     "shell.execute_reply": "2022-05-07T14:16:51.745062Z",
     "shell.execute_reply.started": "2022-05-07T14:12:30.338245Z"
    },
    "papermill": {
     "duration": 0.063402,
     "end_time": "2022-05-07T14:16:51.745243",
     "exception": false,
     "start_time": "2022-05-07T14:16:51.681841",
     "status": "completed"
    },
    "tags": []
   },
   "outputs": [],
   "source": [
    "df[\"rating\"].replace(np.nan, \"TV-MA\", inplace=True)"
   ]
  },
  {
   "cell_type": "code",
   "execution_count": 16,
   "id": "b917a2a1",
   "metadata": {
    "execution": {
     "iopub.execute_input": "2022-05-07T14:16:51.856606Z",
     "iopub.status.busy": "2022-05-07T14:16:51.855948Z",
     "iopub.status.idle": "2022-05-07T14:16:51.862312Z",
     "shell.execute_reply": "2022-05-07T14:16:51.862901Z",
     "shell.execute_reply.started": "2022-05-07T14:12:30.350808Z"
    },
    "papermill": {
     "duration": 0.06405,
     "end_time": "2022-05-07T14:16:51.863072",
     "exception": false,
     "start_time": "2022-05-07T14:16:51.799022",
     "status": "completed"
    },
    "tags": []
   },
   "outputs": [
    {
     "data": {
      "text/plain": [
       "0"
      ]
     },
     "execution_count": 16,
     "metadata": {},
     "output_type": "execute_result"
    }
   ],
   "source": [
    "df['rating'].isnull().sum()"
   ]
  },
  {
   "cell_type": "markdown",
   "id": "598e90f8",
   "metadata": {
    "papermill": {
     "duration": 0.055831,
     "end_time": "2022-05-07T14:16:51.973426",
     "exception": false,
     "start_time": "2022-05-07T14:16:51.917595",
     "status": "completed"
    },
    "tags": []
   },
   "source": [
    "Great, another column down. Now let's take a look at Date_added.\n",
    "The data in this column shows the date that the title was added to Netflix, this data may be hard to find, instead of wasting time, I'm going to remove these rows from the analysis."
   ]
  },
  {
   "cell_type": "code",
   "execution_count": 17,
   "id": "3d660dd7",
   "metadata": {
    "execution": {
     "iopub.execute_input": "2022-05-07T14:16:52.088664Z",
     "iopub.status.busy": "2022-05-07T14:16:52.087985Z",
     "iopub.status.idle": "2022-05-07T14:16:52.097614Z",
     "shell.execute_reply": "2022-05-07T14:16:52.098150Z",
     "shell.execute_reply.started": "2022-05-07T14:12:30.365252Z"
    },
    "papermill": {
     "duration": 0.067857,
     "end_time": "2022-05-07T14:16:52.098328",
     "exception": false,
     "start_time": "2022-05-07T14:16:52.030471",
     "status": "completed"
    },
    "tags": []
   },
   "outputs": [],
   "source": [
    "df.dropna(subset=[\"date_added\"], axis=0, inplace=True)\n",
    "# reset index, because we droped some rows\n",
    "df.reset_index(drop=True, inplace=True)"
   ]
  },
  {
   "cell_type": "code",
   "execution_count": 18,
   "id": "d61e6650",
   "metadata": {
    "execution": {
     "iopub.execute_input": "2022-05-07T14:16:52.211923Z",
     "iopub.status.busy": "2022-05-07T14:16:52.211280Z",
     "iopub.status.idle": "2022-05-07T14:16:52.218316Z",
     "shell.execute_reply": "2022-05-07T14:16:52.218966Z",
     "shell.execute_reply.started": "2022-05-07T14:12:30.382907Z"
    },
    "papermill": {
     "duration": 0.06586,
     "end_time": "2022-05-07T14:16:52.219148",
     "exception": false,
     "start_time": "2022-05-07T14:16:52.153288",
     "status": "completed"
    },
    "tags": []
   },
   "outputs": [
    {
     "data": {
      "text/plain": [
       "0"
      ]
     },
     "execution_count": 18,
     "metadata": {},
     "output_type": "execute_result"
    }
   ],
   "source": [
    "df['date_added'].isnull().sum()"
   ]
  },
  {
   "cell_type": "markdown",
   "id": "2b49a45a",
   "metadata": {
    "papermill": {
     "duration": 0.054963,
     "end_time": "2022-05-07T14:16:52.329998",
     "exception": false,
     "start_time": "2022-05-07T14:16:52.275035",
     "status": "completed"
    },
    "tags": []
   },
   "source": [
    "Now we see that we also have no null rows in the Date Added column, great. For the columns Director, Cast and Country that still contain missing data, I will cgoose to ignore these. Now that I am happy with the state of the data I can begin my analsysis.\n",
    "\n",
    "The aim of this project is to explore the data that is available on Netflix, from the column names we know that Netlix offers TV-Shows and Movies. But in what proportion?"
   ]
  },
  {
   "cell_type": "code",
   "execution_count": 19,
   "id": "88f9ed99",
   "metadata": {
    "execution": {
     "iopub.execute_input": "2022-05-07T14:16:52.443083Z",
     "iopub.status.busy": "2022-05-07T14:16:52.442381Z",
     "iopub.status.idle": "2022-05-07T14:16:52.456110Z",
     "shell.execute_reply": "2022-05-07T14:16:52.456664Z",
     "shell.execute_reply.started": "2022-05-07T14:12:30.397450Z"
    },
    "papermill": {
     "duration": 0.07179,
     "end_time": "2022-05-07T14:16:52.456851",
     "exception": false,
     "start_time": "2022-05-07T14:16:52.385061",
     "status": "completed"
    },
    "tags": []
   },
   "outputs": [
    {
     "data": {
      "text/html": [
       "<div>\n",
       "<style scoped>\n",
       "    .dataframe tbody tr th:only-of-type {\n",
       "        vertical-align: middle;\n",
       "    }\n",
       "\n",
       "    .dataframe tbody tr th {\n",
       "        vertical-align: top;\n",
       "    }\n",
       "\n",
       "    .dataframe thead th {\n",
       "        text-align: right;\n",
       "    }\n",
       "</style>\n",
       "<table border=\"1\" class=\"dataframe\">\n",
       "  <thead>\n",
       "    <tr style=\"text-align: right;\">\n",
       "      <th></th>\n",
       "      <th>type</th>\n",
       "      <th>show_id</th>\n",
       "    </tr>\n",
       "  </thead>\n",
       "  <tbody>\n",
       "    <tr>\n",
       "      <th>0</th>\n",
       "      <td>Movie</td>\n",
       "      <td>6131</td>\n",
       "    </tr>\n",
       "    <tr>\n",
       "      <th>1</th>\n",
       "      <td>TV Show</td>\n",
       "      <td>2666</td>\n",
       "    </tr>\n",
       "  </tbody>\n",
       "</table>\n",
       "</div>"
      ],
      "text/plain": [
       "      type  show_id\n",
       "0    Movie     6131\n",
       "1  TV Show     2666"
      ]
     },
     "execution_count": 19,
     "metadata": {},
     "output_type": "execute_result"
    }
   ],
   "source": [
    "pie_data = df.groupby(['type'])['show_id'].count().reset_index()\n",
    "pie_data"
   ]
  },
  {
   "cell_type": "code",
   "execution_count": 20,
   "id": "dfc02f71",
   "metadata": {
    "execution": {
     "iopub.execute_input": "2022-05-07T14:16:52.571185Z",
     "iopub.status.busy": "2022-05-07T14:16:52.570512Z",
     "iopub.status.idle": "2022-05-07T14:16:53.533820Z",
     "shell.execute_reply": "2022-05-07T14:16:53.534323Z",
     "shell.execute_reply.started": "2022-05-07T14:12:30.421144Z"
    },
    "papermill": {
     "duration": 1.021993,
     "end_time": "2022-05-07T14:16:53.534539",
     "exception": false,
     "start_time": "2022-05-07T14:16:52.512546",
     "status": "completed"
    },
    "tags": []
   },
   "outputs": [
    {
     "data": {
      "text/html": [
       "        <script type=\"text/javascript\">\n",
       "        window.PlotlyConfig = {MathJaxConfig: 'local'};\n",
       "        if (window.MathJax) {MathJax.Hub.Config({SVG: {font: \"STIX-Web\"}});}\n",
       "        if (typeof require !== 'undefined') {\n",
       "        require.undef(\"plotly\");\n",
       "        requirejs.config({\n",
       "            paths: {\n",
       "                'plotly': ['https://cdn.plot.ly/plotly-2.8.3.min']\n",
       "            }\n",
       "        });\n",
       "        require(['plotly'], function(Plotly) {\n",
       "            window._Plotly = Plotly;\n",
       "        });\n",
       "        }\n",
       "        </script>\n",
       "        "
      ]
     },
     "metadata": {},
     "output_type": "display_data"
    },
    {
     "data": {
      "text/html": [
       "<div>                            <div id=\"621c206d-9ea4-4396-9ba3-02a5a8280ffd\" class=\"plotly-graph-div\" style=\"height:525px; width:100%;\"></div>            <script type=\"text/javascript\">                require([\"plotly\"], function(Plotly) {                    window.PLOTLYENV=window.PLOTLYENV || {};                                    if (document.getElementById(\"621c206d-9ea4-4396-9ba3-02a5a8280ffd\")) {                    Plotly.newPlot(                        \"621c206d-9ea4-4396-9ba3-02a5a8280ffd\",                        [{\"domain\":{\"x\":[0.0,1.0],\"y\":[0.0,1.0]},\"hovertemplate\":\"type=%{label}<br>show_id=%{value}<extra></extra>\",\"labels\":[\"Movie\",\"TV Show\"],\"legendgroup\":\"\",\"name\":\"\",\"showlegend\":true,\"values\":[6131,2666],\"type\":\"pie\"}],                        {\"template\":{\"data\":{\"bar\":[{\"error_x\":{\"color\":\"#2a3f5f\"},\"error_y\":{\"color\":\"#2a3f5f\"},\"marker\":{\"line\":{\"color\":\"#E5ECF6\",\"width\":0.5},\"pattern\":{\"fillmode\":\"overlay\",\"size\":10,\"solidity\":0.2}},\"type\":\"bar\"}],\"barpolar\":[{\"marker\":{\"line\":{\"color\":\"#E5ECF6\",\"width\":0.5},\"pattern\":{\"fillmode\":\"overlay\",\"size\":10,\"solidity\":0.2}},\"type\":\"barpolar\"}],\"carpet\":[{\"aaxis\":{\"endlinecolor\":\"#2a3f5f\",\"gridcolor\":\"white\",\"linecolor\":\"white\",\"minorgridcolor\":\"white\",\"startlinecolor\":\"#2a3f5f\"},\"baxis\":{\"endlinecolor\":\"#2a3f5f\",\"gridcolor\":\"white\",\"linecolor\":\"white\",\"minorgridcolor\":\"white\",\"startlinecolor\":\"#2a3f5f\"},\"type\":\"carpet\"}],\"choropleth\":[{\"colorbar\":{\"outlinewidth\":0,\"ticks\":\"\"},\"type\":\"choropleth\"}],\"contour\":[{\"colorbar\":{\"outlinewidth\":0,\"ticks\":\"\"},\"colorscale\":[[0.0,\"#0d0887\"],[0.1111111111111111,\"#46039f\"],[0.2222222222222222,\"#7201a8\"],[0.3333333333333333,\"#9c179e\"],[0.4444444444444444,\"#bd3786\"],[0.5555555555555556,\"#d8576b\"],[0.6666666666666666,\"#ed7953\"],[0.7777777777777778,\"#fb9f3a\"],[0.8888888888888888,\"#fdca26\"],[1.0,\"#f0f921\"]],\"type\":\"contour\"}],\"contourcarpet\":[{\"colorbar\":{\"outlinewidth\":0,\"ticks\":\"\"},\"type\":\"contourcarpet\"}],\"heatmap\":[{\"colorbar\":{\"outlinewidth\":0,\"ticks\":\"\"},\"colorscale\":[[0.0,\"#0d0887\"],[0.1111111111111111,\"#46039f\"],[0.2222222222222222,\"#7201a8\"],[0.3333333333333333,\"#9c179e\"],[0.4444444444444444,\"#bd3786\"],[0.5555555555555556,\"#d8576b\"],[0.6666666666666666,\"#ed7953\"],[0.7777777777777778,\"#fb9f3a\"],[0.8888888888888888,\"#fdca26\"],[1.0,\"#f0f921\"]],\"type\":\"heatmap\"}],\"heatmapgl\":[{\"colorbar\":{\"outlinewidth\":0,\"ticks\":\"\"},\"colorscale\":[[0.0,\"#0d0887\"],[0.1111111111111111,\"#46039f\"],[0.2222222222222222,\"#7201a8\"],[0.3333333333333333,\"#9c179e\"],[0.4444444444444444,\"#bd3786\"],[0.5555555555555556,\"#d8576b\"],[0.6666666666666666,\"#ed7953\"],[0.7777777777777778,\"#fb9f3a\"],[0.8888888888888888,\"#fdca26\"],[1.0,\"#f0f921\"]],\"type\":\"heatmapgl\"}],\"histogram\":[{\"marker\":{\"pattern\":{\"fillmode\":\"overlay\",\"size\":10,\"solidity\":0.2}},\"type\":\"histogram\"}],\"histogram2d\":[{\"colorbar\":{\"outlinewidth\":0,\"ticks\":\"\"},\"colorscale\":[[0.0,\"#0d0887\"],[0.1111111111111111,\"#46039f\"],[0.2222222222222222,\"#7201a8\"],[0.3333333333333333,\"#9c179e\"],[0.4444444444444444,\"#bd3786\"],[0.5555555555555556,\"#d8576b\"],[0.6666666666666666,\"#ed7953\"],[0.7777777777777778,\"#fb9f3a\"],[0.8888888888888888,\"#fdca26\"],[1.0,\"#f0f921\"]],\"type\":\"histogram2d\"}],\"histogram2dcontour\":[{\"colorbar\":{\"outlinewidth\":0,\"ticks\":\"\"},\"colorscale\":[[0.0,\"#0d0887\"],[0.1111111111111111,\"#46039f\"],[0.2222222222222222,\"#7201a8\"],[0.3333333333333333,\"#9c179e\"],[0.4444444444444444,\"#bd3786\"],[0.5555555555555556,\"#d8576b\"],[0.6666666666666666,\"#ed7953\"],[0.7777777777777778,\"#fb9f3a\"],[0.8888888888888888,\"#fdca26\"],[1.0,\"#f0f921\"]],\"type\":\"histogram2dcontour\"}],\"mesh3d\":[{\"colorbar\":{\"outlinewidth\":0,\"ticks\":\"\"},\"type\":\"mesh3d\"}],\"parcoords\":[{\"line\":{\"colorbar\":{\"outlinewidth\":0,\"ticks\":\"\"}},\"type\":\"parcoords\"}],\"pie\":[{\"automargin\":true,\"type\":\"pie\"}],\"scatter\":[{\"marker\":{\"colorbar\":{\"outlinewidth\":0,\"ticks\":\"\"}},\"type\":\"scatter\"}],\"scatter3d\":[{\"line\":{\"colorbar\":{\"outlinewidth\":0,\"ticks\":\"\"}},\"marker\":{\"colorbar\":{\"outlinewidth\":0,\"ticks\":\"\"}},\"type\":\"scatter3d\"}],\"scattercarpet\":[{\"marker\":{\"colorbar\":{\"outlinewidth\":0,\"ticks\":\"\"}},\"type\":\"scattercarpet\"}],\"scattergeo\":[{\"marker\":{\"colorbar\":{\"outlinewidth\":0,\"ticks\":\"\"}},\"type\":\"scattergeo\"}],\"scattergl\":[{\"marker\":{\"colorbar\":{\"outlinewidth\":0,\"ticks\":\"\"}},\"type\":\"scattergl\"}],\"scattermapbox\":[{\"marker\":{\"colorbar\":{\"outlinewidth\":0,\"ticks\":\"\"}},\"type\":\"scattermapbox\"}],\"scatterpolar\":[{\"marker\":{\"colorbar\":{\"outlinewidth\":0,\"ticks\":\"\"}},\"type\":\"scatterpolar\"}],\"scatterpolargl\":[{\"marker\":{\"colorbar\":{\"outlinewidth\":0,\"ticks\":\"\"}},\"type\":\"scatterpolargl\"}],\"scatterternary\":[{\"marker\":{\"colorbar\":{\"outlinewidth\":0,\"ticks\":\"\"}},\"type\":\"scatterternary\"}],\"surface\":[{\"colorbar\":{\"outlinewidth\":0,\"ticks\":\"\"},\"colorscale\":[[0.0,\"#0d0887\"],[0.1111111111111111,\"#46039f\"],[0.2222222222222222,\"#7201a8\"],[0.3333333333333333,\"#9c179e\"],[0.4444444444444444,\"#bd3786\"],[0.5555555555555556,\"#d8576b\"],[0.6666666666666666,\"#ed7953\"],[0.7777777777777778,\"#fb9f3a\"],[0.8888888888888888,\"#fdca26\"],[1.0,\"#f0f921\"]],\"type\":\"surface\"}],\"table\":[{\"cells\":{\"fill\":{\"color\":\"#EBF0F8\"},\"line\":{\"color\":\"white\"}},\"header\":{\"fill\":{\"color\":\"#C8D4E3\"},\"line\":{\"color\":\"white\"}},\"type\":\"table\"}]},\"layout\":{\"annotationdefaults\":{\"arrowcolor\":\"#2a3f5f\",\"arrowhead\":0,\"arrowwidth\":1},\"autotypenumbers\":\"strict\",\"coloraxis\":{\"colorbar\":{\"outlinewidth\":0,\"ticks\":\"\"}},\"colorscale\":{\"diverging\":[[0,\"#8e0152\"],[0.1,\"#c51b7d\"],[0.2,\"#de77ae\"],[0.3,\"#f1b6da\"],[0.4,\"#fde0ef\"],[0.5,\"#f7f7f7\"],[0.6,\"#e6f5d0\"],[0.7,\"#b8e186\"],[0.8,\"#7fbc41\"],[0.9,\"#4d9221\"],[1,\"#276419\"]],\"sequential\":[[0.0,\"#0d0887\"],[0.1111111111111111,\"#46039f\"],[0.2222222222222222,\"#7201a8\"],[0.3333333333333333,\"#9c179e\"],[0.4444444444444444,\"#bd3786\"],[0.5555555555555556,\"#d8576b\"],[0.6666666666666666,\"#ed7953\"],[0.7777777777777778,\"#fb9f3a\"],[0.8888888888888888,\"#fdca26\"],[1.0,\"#f0f921\"]],\"sequentialminus\":[[0.0,\"#0d0887\"],[0.1111111111111111,\"#46039f\"],[0.2222222222222222,\"#7201a8\"],[0.3333333333333333,\"#9c179e\"],[0.4444444444444444,\"#bd3786\"],[0.5555555555555556,\"#d8576b\"],[0.6666666666666666,\"#ed7953\"],[0.7777777777777778,\"#fb9f3a\"],[0.8888888888888888,\"#fdca26\"],[1.0,\"#f0f921\"]]},\"colorway\":[\"#636efa\",\"#EF553B\",\"#00cc96\",\"#ab63fa\",\"#FFA15A\",\"#19d3f3\",\"#FF6692\",\"#B6E880\",\"#FF97FF\",\"#FECB52\"],\"font\":{\"color\":\"#2a3f5f\"},\"geo\":{\"bgcolor\":\"white\",\"lakecolor\":\"white\",\"landcolor\":\"#E5ECF6\",\"showlakes\":true,\"showland\":true,\"subunitcolor\":\"white\"},\"hoverlabel\":{\"align\":\"left\"},\"hovermode\":\"closest\",\"mapbox\":{\"style\":\"light\"},\"paper_bgcolor\":\"white\",\"plot_bgcolor\":\"#E5ECF6\",\"polar\":{\"angularaxis\":{\"gridcolor\":\"white\",\"linecolor\":\"white\",\"ticks\":\"\"},\"bgcolor\":\"#E5ECF6\",\"radialaxis\":{\"gridcolor\":\"white\",\"linecolor\":\"white\",\"ticks\":\"\"}},\"scene\":{\"xaxis\":{\"backgroundcolor\":\"#E5ECF6\",\"gridcolor\":\"white\",\"gridwidth\":2,\"linecolor\":\"white\",\"showbackground\":true,\"ticks\":\"\",\"zerolinecolor\":\"white\"},\"yaxis\":{\"backgroundcolor\":\"#E5ECF6\",\"gridcolor\":\"white\",\"gridwidth\":2,\"linecolor\":\"white\",\"showbackground\":true,\"ticks\":\"\",\"zerolinecolor\":\"white\"},\"zaxis\":{\"backgroundcolor\":\"#E5ECF6\",\"gridcolor\":\"white\",\"gridwidth\":2,\"linecolor\":\"white\",\"showbackground\":true,\"ticks\":\"\",\"zerolinecolor\":\"white\"}},\"shapedefaults\":{\"line\":{\"color\":\"#2a3f5f\"}},\"ternary\":{\"aaxis\":{\"gridcolor\":\"white\",\"linecolor\":\"white\",\"ticks\":\"\"},\"baxis\":{\"gridcolor\":\"white\",\"linecolor\":\"white\",\"ticks\":\"\"},\"bgcolor\":\"#E5ECF6\",\"caxis\":{\"gridcolor\":\"white\",\"linecolor\":\"white\",\"ticks\":\"\"}},\"title\":{\"x\":0.05},\"xaxis\":{\"automargin\":true,\"gridcolor\":\"white\",\"linecolor\":\"white\",\"ticks\":\"\",\"title\":{\"standoff\":15},\"zerolinecolor\":\"white\",\"zerolinewidth\":2},\"yaxis\":{\"automargin\":true,\"gridcolor\":\"white\",\"linecolor\":\"white\",\"ticks\":\"\",\"title\":{\"standoff\":15},\"zerolinecolor\":\"white\",\"zerolinewidth\":2}}},\"legend\":{\"tracegroupgap\":0},\"title\":{\"text\":\"Proportion of Movies vs TV Shows on Netflix\"}},                        {\"responsive\": true}                    ).then(function(){\n",
       "                            \n",
       "var gd = document.getElementById('621c206d-9ea4-4396-9ba3-02a5a8280ffd');\n",
       "var x = new MutationObserver(function (mutations, observer) {{\n",
       "        var display = window.getComputedStyle(gd).display;\n",
       "        if (!display || display === 'none') {{\n",
       "            console.log([gd, 'removed!']);\n",
       "            Plotly.purge(gd);\n",
       "            observer.disconnect();\n",
       "        }}\n",
       "}});\n",
       "\n",
       "// Listen for the removal of the full notebook cells\n",
       "var notebookContainer = gd.closest('#notebook-container');\n",
       "if (notebookContainer) {{\n",
       "    x.observe(notebookContainer, {childList: true});\n",
       "}}\n",
       "\n",
       "// Listen for the clearing of the current output cell\n",
       "var outputEl = gd.closest('.output');\n",
       "if (outputEl) {{\n",
       "    x.observe(outputEl, {childList: true});\n",
       "}}\n",
       "\n",
       "                        })                };                });            </script>        </div>"
      ]
     },
     "metadata": {},
     "output_type": "display_data"
    }
   ],
   "source": [
    "fig = px.pie(pie_data, values='show_id', names='type', title='Proportion of Movies vs TV Shows on Netflix') \n",
    "fig.show()"
   ]
  },
  {
   "cell_type": "markdown",
   "id": "af3f9847",
   "metadata": {
    "papermill": {
     "duration": 0.056815,
     "end_time": "2022-05-07T14:16:53.648886",
     "exception": false,
     "start_time": "2022-05-07T14:16:53.592071",
     "status": "completed"
    },
    "tags": []
   },
   "source": [
    "This pie chart shows us that the majority of the Netflix catalogue consists of movies, about a 70:30 split between movies and TV Shows. Given that the majority of the titles on Netflix, let's take a closer look at them."
   ]
  },
  {
   "cell_type": "code",
   "execution_count": 21,
   "id": "104fe7f2",
   "metadata": {
    "execution": {
     "iopub.execute_input": "2022-05-07T14:16:53.766073Z",
     "iopub.status.busy": "2022-05-07T14:16:53.765082Z",
     "iopub.status.idle": "2022-05-07T14:16:53.780933Z",
     "shell.execute_reply": "2022-05-07T14:16:53.781495Z",
     "shell.execute_reply.started": "2022-05-07T14:12:30.474404Z"
    },
    "papermill": {
     "duration": 0.076111,
     "end_time": "2022-05-07T14:16:53.781666",
     "exception": false,
     "start_time": "2022-05-07T14:16:53.705555",
     "status": "completed"
    },
    "tags": []
   },
   "outputs": [
    {
     "data": {
      "text/html": [
       "<div>\n",
       "<style scoped>\n",
       "    .dataframe tbody tr th:only-of-type {\n",
       "        vertical-align: middle;\n",
       "    }\n",
       "\n",
       "    .dataframe tbody tr th {\n",
       "        vertical-align: top;\n",
       "    }\n",
       "\n",
       "    .dataframe thead th {\n",
       "        text-align: right;\n",
       "    }\n",
       "</style>\n",
       "<table border=\"1\" class=\"dataframe\">\n",
       "  <thead>\n",
       "    <tr style=\"text-align: right;\">\n",
       "      <th></th>\n",
       "      <th>release_year</th>\n",
       "      <th>type</th>\n",
       "      <th>show_id</th>\n",
       "    </tr>\n",
       "  </thead>\n",
       "  <tbody>\n",
       "    <tr>\n",
       "      <th>0</th>\n",
       "      <td>1925</td>\n",
       "      <td>TV Show</td>\n",
       "      <td>1</td>\n",
       "    </tr>\n",
       "    <tr>\n",
       "      <th>1</th>\n",
       "      <td>1942</td>\n",
       "      <td>Movie</td>\n",
       "      <td>2</td>\n",
       "    </tr>\n",
       "    <tr>\n",
       "      <th>2</th>\n",
       "      <td>1943</td>\n",
       "      <td>Movie</td>\n",
       "      <td>3</td>\n",
       "    </tr>\n",
       "    <tr>\n",
       "      <th>3</th>\n",
       "      <td>1944</td>\n",
       "      <td>Movie</td>\n",
       "      <td>3</td>\n",
       "    </tr>\n",
       "    <tr>\n",
       "      <th>4</th>\n",
       "      <td>1945</td>\n",
       "      <td>Movie</td>\n",
       "      <td>3</td>\n",
       "    </tr>\n",
       "  </tbody>\n",
       "</table>\n",
       "</div>"
      ],
      "text/plain": [
       "   release_year     type  show_id\n",
       "0          1925  TV Show        1\n",
       "1          1942    Movie        2\n",
       "2          1943    Movie        3\n",
       "3          1944    Movie        3\n",
       "4          1945    Movie        3"
      ]
     },
     "execution_count": 21,
     "metadata": {},
     "output_type": "execute_result"
    }
   ],
   "source": [
    "hist_data = df.groupby(['release_year','type'])['show_id'].count().reset_index()\n",
    "hist_data.head()"
   ]
  },
  {
   "cell_type": "code",
   "execution_count": 22,
   "id": "39b347d8",
   "metadata": {
    "execution": {
     "iopub.execute_input": "2022-05-07T14:16:53.901108Z",
     "iopub.status.busy": "2022-05-07T14:16:53.900070Z",
     "iopub.status.idle": "2022-05-07T14:16:54.130339Z",
     "shell.execute_reply": "2022-05-07T14:16:54.130992Z",
     "shell.execute_reply.started": "2022-05-07T14:12:30.494927Z"
    },
    "papermill": {
     "duration": 0.292214,
     "end_time": "2022-05-07T14:16:54.131163",
     "exception": false,
     "start_time": "2022-05-07T14:16:53.838949",
     "status": "completed"
    },
    "tags": []
   },
   "outputs": [
    {
     "data": {
      "text/html": [
       "<div>                            <div id=\"ebd42944-7303-4595-b65c-0e62c08a2a5c\" class=\"plotly-graph-div\" style=\"height:525px; width:100%;\"></div>            <script type=\"text/javascript\">                require([\"plotly\"], function(Plotly) {                    window.PLOTLYENV=window.PLOTLYENV || {};                                    if (document.getElementById(\"ebd42944-7303-4595-b65c-0e62c08a2a5c\")) {                    Plotly.newPlot(                        \"ebd42944-7303-4595-b65c-0e62c08a2a5c\",                        [{\"alignmentgroup\":\"True\",\"hovertemplate\":\"type=TV Show<br>release_year=%{x}<br>show_id=%{y}<extra></extra>\",\"legendgroup\":\"TV Show\",\"marker\":{\"color\":\"#636efa\",\"pattern\":{\"shape\":\"\"}},\"name\":\"TV Show\",\"offsetgroup\":\"TV Show\",\"orientation\":\"v\",\"showlegend\":true,\"textposition\":\"auto\",\"x\":[1925,1945,1946,1963,1967,1972,1974,1977,1979,1981,1985,1986,1988,1989,1990,1991,1992,1993,1994,1995,1996,1997,1998,1999,2000,2001,2002,2003,2004,2005,2006,2007,2008,2009,2010,2011,2012,2013,2014,2015,2016,2017,2018,2019,2020,2021],\"xaxis\":\"x\",\"y\":[1,1,1,1,1,1,1,1,1,1,1,2,2,1,3,1,3,4,2,2,3,4,4,7,4,5,7,8,9,13,14,14,22,34,39,40,63,62,88,160,243,265,379,397,436,315],\"yaxis\":\"y\",\"type\":\"bar\"},{\"alignmentgroup\":\"True\",\"hovertemplate\":\"type=Movie<br>release_year=%{x}<br>show_id=%{y}<extra></extra>\",\"legendgroup\":\"Movie\",\"marker\":{\"color\":\"#EF553B\",\"pattern\":{\"shape\":\"\"}},\"name\":\"Movie\",\"offsetgroup\":\"Movie\",\"orientation\":\"v\",\"showlegend\":true,\"textposition\":\"auto\",\"x\":[1942,1943,1944,1945,1946,1947,1954,1955,1956,1958,1959,1960,1961,1962,1963,1964,1965,1966,1967,1968,1969,1970,1971,1972,1973,1974,1975,1976,1977,1978,1979,1980,1981,1982,1983,1984,1985,1986,1987,1988,1989,1990,1991,1992,1993,1994,1995,1996,1997,1998,1999,2000,2001,2002,2003,2004,2005,2006,2007,2008,2009,2010,2011,2012,2013,2014,2015,2016,2017,2018,2019,2020,2021],\"xaxis\":\"x\",\"y\":[2,3,3,3,1,1,2,3,2,3,1,4,1,3,1,2,2,1,4,3,2,2,5,4,10,6,7,9,6,7,10,11,12,17,11,12,9,11,8,16,15,19,16,20,24,20,23,21,34,32,32,33,40,44,51,55,67,82,74,113,118,154,145,173,225,264,398,658,767,767,633,517,277],\"yaxis\":\"y\",\"type\":\"bar\"}],                        {\"template\":{\"data\":{\"bar\":[{\"error_x\":{\"color\":\"#2a3f5f\"},\"error_y\":{\"color\":\"#2a3f5f\"},\"marker\":{\"line\":{\"color\":\"#E5ECF6\",\"width\":0.5},\"pattern\":{\"fillmode\":\"overlay\",\"size\":10,\"solidity\":0.2}},\"type\":\"bar\"}],\"barpolar\":[{\"marker\":{\"line\":{\"color\":\"#E5ECF6\",\"width\":0.5},\"pattern\":{\"fillmode\":\"overlay\",\"size\":10,\"solidity\":0.2}},\"type\":\"barpolar\"}],\"carpet\":[{\"aaxis\":{\"endlinecolor\":\"#2a3f5f\",\"gridcolor\":\"white\",\"linecolor\":\"white\",\"minorgridcolor\":\"white\",\"startlinecolor\":\"#2a3f5f\"},\"baxis\":{\"endlinecolor\":\"#2a3f5f\",\"gridcolor\":\"white\",\"linecolor\":\"white\",\"minorgridcolor\":\"white\",\"startlinecolor\":\"#2a3f5f\"},\"type\":\"carpet\"}],\"choropleth\":[{\"colorbar\":{\"outlinewidth\":0,\"ticks\":\"\"},\"type\":\"choropleth\"}],\"contour\":[{\"colorbar\":{\"outlinewidth\":0,\"ticks\":\"\"},\"colorscale\":[[0.0,\"#0d0887\"],[0.1111111111111111,\"#46039f\"],[0.2222222222222222,\"#7201a8\"],[0.3333333333333333,\"#9c179e\"],[0.4444444444444444,\"#bd3786\"],[0.5555555555555556,\"#d8576b\"],[0.6666666666666666,\"#ed7953\"],[0.7777777777777778,\"#fb9f3a\"],[0.8888888888888888,\"#fdca26\"],[1.0,\"#f0f921\"]],\"type\":\"contour\"}],\"contourcarpet\":[{\"colorbar\":{\"outlinewidth\":0,\"ticks\":\"\"},\"type\":\"contourcarpet\"}],\"heatmap\":[{\"colorbar\":{\"outlinewidth\":0,\"ticks\":\"\"},\"colorscale\":[[0.0,\"#0d0887\"],[0.1111111111111111,\"#46039f\"],[0.2222222222222222,\"#7201a8\"],[0.3333333333333333,\"#9c179e\"],[0.4444444444444444,\"#bd3786\"],[0.5555555555555556,\"#d8576b\"],[0.6666666666666666,\"#ed7953\"],[0.7777777777777778,\"#fb9f3a\"],[0.8888888888888888,\"#fdca26\"],[1.0,\"#f0f921\"]],\"type\":\"heatmap\"}],\"heatmapgl\":[{\"colorbar\":{\"outlinewidth\":0,\"ticks\":\"\"},\"colorscale\":[[0.0,\"#0d0887\"],[0.1111111111111111,\"#46039f\"],[0.2222222222222222,\"#7201a8\"],[0.3333333333333333,\"#9c179e\"],[0.4444444444444444,\"#bd3786\"],[0.5555555555555556,\"#d8576b\"],[0.6666666666666666,\"#ed7953\"],[0.7777777777777778,\"#fb9f3a\"],[0.8888888888888888,\"#fdca26\"],[1.0,\"#f0f921\"]],\"type\":\"heatmapgl\"}],\"histogram\":[{\"marker\":{\"pattern\":{\"fillmode\":\"overlay\",\"size\":10,\"solidity\":0.2}},\"type\":\"histogram\"}],\"histogram2d\":[{\"colorbar\":{\"outlinewidth\":0,\"ticks\":\"\"},\"colorscale\":[[0.0,\"#0d0887\"],[0.1111111111111111,\"#46039f\"],[0.2222222222222222,\"#7201a8\"],[0.3333333333333333,\"#9c179e\"],[0.4444444444444444,\"#bd3786\"],[0.5555555555555556,\"#d8576b\"],[0.6666666666666666,\"#ed7953\"],[0.7777777777777778,\"#fb9f3a\"],[0.8888888888888888,\"#fdca26\"],[1.0,\"#f0f921\"]],\"type\":\"histogram2d\"}],\"histogram2dcontour\":[{\"colorbar\":{\"outlinewidth\":0,\"ticks\":\"\"},\"colorscale\":[[0.0,\"#0d0887\"],[0.1111111111111111,\"#46039f\"],[0.2222222222222222,\"#7201a8\"],[0.3333333333333333,\"#9c179e\"],[0.4444444444444444,\"#bd3786\"],[0.5555555555555556,\"#d8576b\"],[0.6666666666666666,\"#ed7953\"],[0.7777777777777778,\"#fb9f3a\"],[0.8888888888888888,\"#fdca26\"],[1.0,\"#f0f921\"]],\"type\":\"histogram2dcontour\"}],\"mesh3d\":[{\"colorbar\":{\"outlinewidth\":0,\"ticks\":\"\"},\"type\":\"mesh3d\"}],\"parcoords\":[{\"line\":{\"colorbar\":{\"outlinewidth\":0,\"ticks\":\"\"}},\"type\":\"parcoords\"}],\"pie\":[{\"automargin\":true,\"type\":\"pie\"}],\"scatter\":[{\"marker\":{\"colorbar\":{\"outlinewidth\":0,\"ticks\":\"\"}},\"type\":\"scatter\"}],\"scatter3d\":[{\"line\":{\"colorbar\":{\"outlinewidth\":0,\"ticks\":\"\"}},\"marker\":{\"colorbar\":{\"outlinewidth\":0,\"ticks\":\"\"}},\"type\":\"scatter3d\"}],\"scattercarpet\":[{\"marker\":{\"colorbar\":{\"outlinewidth\":0,\"ticks\":\"\"}},\"type\":\"scattercarpet\"}],\"scattergeo\":[{\"marker\":{\"colorbar\":{\"outlinewidth\":0,\"ticks\":\"\"}},\"type\":\"scattergeo\"}],\"scattergl\":[{\"marker\":{\"colorbar\":{\"outlinewidth\":0,\"ticks\":\"\"}},\"type\":\"scattergl\"}],\"scattermapbox\":[{\"marker\":{\"colorbar\":{\"outlinewidth\":0,\"ticks\":\"\"}},\"type\":\"scattermapbox\"}],\"scatterpolar\":[{\"marker\":{\"colorbar\":{\"outlinewidth\":0,\"ticks\":\"\"}},\"type\":\"scatterpolar\"}],\"scatterpolargl\":[{\"marker\":{\"colorbar\":{\"outlinewidth\":0,\"ticks\":\"\"}},\"type\":\"scatterpolargl\"}],\"scatterternary\":[{\"marker\":{\"colorbar\":{\"outlinewidth\":0,\"ticks\":\"\"}},\"type\":\"scatterternary\"}],\"surface\":[{\"colorbar\":{\"outlinewidth\":0,\"ticks\":\"\"},\"colorscale\":[[0.0,\"#0d0887\"],[0.1111111111111111,\"#46039f\"],[0.2222222222222222,\"#7201a8\"],[0.3333333333333333,\"#9c179e\"],[0.4444444444444444,\"#bd3786\"],[0.5555555555555556,\"#d8576b\"],[0.6666666666666666,\"#ed7953\"],[0.7777777777777778,\"#fb9f3a\"],[0.8888888888888888,\"#fdca26\"],[1.0,\"#f0f921\"]],\"type\":\"surface\"}],\"table\":[{\"cells\":{\"fill\":{\"color\":\"#EBF0F8\"},\"line\":{\"color\":\"white\"}},\"header\":{\"fill\":{\"color\":\"#C8D4E3\"},\"line\":{\"color\":\"white\"}},\"type\":\"table\"}]},\"layout\":{\"annotationdefaults\":{\"arrowcolor\":\"#2a3f5f\",\"arrowhead\":0,\"arrowwidth\":1},\"autotypenumbers\":\"strict\",\"coloraxis\":{\"colorbar\":{\"outlinewidth\":0,\"ticks\":\"\"}},\"colorscale\":{\"diverging\":[[0,\"#8e0152\"],[0.1,\"#c51b7d\"],[0.2,\"#de77ae\"],[0.3,\"#f1b6da\"],[0.4,\"#fde0ef\"],[0.5,\"#f7f7f7\"],[0.6,\"#e6f5d0\"],[0.7,\"#b8e186\"],[0.8,\"#7fbc41\"],[0.9,\"#4d9221\"],[1,\"#276419\"]],\"sequential\":[[0.0,\"#0d0887\"],[0.1111111111111111,\"#46039f\"],[0.2222222222222222,\"#7201a8\"],[0.3333333333333333,\"#9c179e\"],[0.4444444444444444,\"#bd3786\"],[0.5555555555555556,\"#d8576b\"],[0.6666666666666666,\"#ed7953\"],[0.7777777777777778,\"#fb9f3a\"],[0.8888888888888888,\"#fdca26\"],[1.0,\"#f0f921\"]],\"sequentialminus\":[[0.0,\"#0d0887\"],[0.1111111111111111,\"#46039f\"],[0.2222222222222222,\"#7201a8\"],[0.3333333333333333,\"#9c179e\"],[0.4444444444444444,\"#bd3786\"],[0.5555555555555556,\"#d8576b\"],[0.6666666666666666,\"#ed7953\"],[0.7777777777777778,\"#fb9f3a\"],[0.8888888888888888,\"#fdca26\"],[1.0,\"#f0f921\"]]},\"colorway\":[\"#636efa\",\"#EF553B\",\"#00cc96\",\"#ab63fa\",\"#FFA15A\",\"#19d3f3\",\"#FF6692\",\"#B6E880\",\"#FF97FF\",\"#FECB52\"],\"font\":{\"color\":\"#2a3f5f\"},\"geo\":{\"bgcolor\":\"white\",\"lakecolor\":\"white\",\"landcolor\":\"#E5ECF6\",\"showlakes\":true,\"showland\":true,\"subunitcolor\":\"white\"},\"hoverlabel\":{\"align\":\"left\"},\"hovermode\":\"closest\",\"mapbox\":{\"style\":\"light\"},\"paper_bgcolor\":\"white\",\"plot_bgcolor\":\"#E5ECF6\",\"polar\":{\"angularaxis\":{\"gridcolor\":\"white\",\"linecolor\":\"white\",\"ticks\":\"\"},\"bgcolor\":\"#E5ECF6\",\"radialaxis\":{\"gridcolor\":\"white\",\"linecolor\":\"white\",\"ticks\":\"\"}},\"scene\":{\"xaxis\":{\"backgroundcolor\":\"#E5ECF6\",\"gridcolor\":\"white\",\"gridwidth\":2,\"linecolor\":\"white\",\"showbackground\":true,\"ticks\":\"\",\"zerolinecolor\":\"white\"},\"yaxis\":{\"backgroundcolor\":\"#E5ECF6\",\"gridcolor\":\"white\",\"gridwidth\":2,\"linecolor\":\"white\",\"showbackground\":true,\"ticks\":\"\",\"zerolinecolor\":\"white\"},\"zaxis\":{\"backgroundcolor\":\"#E5ECF6\",\"gridcolor\":\"white\",\"gridwidth\":2,\"linecolor\":\"white\",\"showbackground\":true,\"ticks\":\"\",\"zerolinecolor\":\"white\"}},\"shapedefaults\":{\"line\":{\"color\":\"#2a3f5f\"}},\"ternary\":{\"aaxis\":{\"gridcolor\":\"white\",\"linecolor\":\"white\",\"ticks\":\"\"},\"baxis\":{\"gridcolor\":\"white\",\"linecolor\":\"white\",\"ticks\":\"\"},\"bgcolor\":\"#E5ECF6\",\"caxis\":{\"gridcolor\":\"white\",\"linecolor\":\"white\",\"ticks\":\"\"}},\"title\":{\"x\":0.05},\"xaxis\":{\"automargin\":true,\"gridcolor\":\"white\",\"linecolor\":\"white\",\"ticks\":\"\",\"title\":{\"standoff\":15},\"zerolinecolor\":\"white\",\"zerolinewidth\":2},\"yaxis\":{\"automargin\":true,\"gridcolor\":\"white\",\"linecolor\":\"white\",\"ticks\":\"\",\"title\":{\"standoff\":15},\"zerolinecolor\":\"white\",\"zerolinewidth\":2}}},\"xaxis\":{\"anchor\":\"y\",\"domain\":[0.0,1.0],\"title\":{\"text\":\"release_year\"}},\"yaxis\":{\"anchor\":\"x\",\"domain\":[0.0,1.0],\"title\":{\"text\":\"show_id\"}},\"legend\":{\"title\":{\"text\":\"type\"},\"tracegroupgap\":0},\"margin\":{\"t\":60},\"barmode\":\"relative\"},                        {\"responsive\": true}                    ).then(function(){\n",
       "                            \n",
       "var gd = document.getElementById('ebd42944-7303-4595-b65c-0e62c08a2a5c');\n",
       "var x = new MutationObserver(function (mutations, observer) {{\n",
       "        var display = window.getComputedStyle(gd).display;\n",
       "        if (!display || display === 'none') {{\n",
       "            console.log([gd, 'removed!']);\n",
       "            Plotly.purge(gd);\n",
       "            observer.disconnect();\n",
       "        }}\n",
       "}});\n",
       "\n",
       "// Listen for the removal of the full notebook cells\n",
       "var notebookContainer = gd.closest('#notebook-container');\n",
       "if (notebookContainer) {{\n",
       "    x.observe(notebookContainer, {childList: true});\n",
       "}}\n",
       "\n",
       "// Listen for the clearing of the current output cell\n",
       "var outputEl = gd.closest('.output');\n",
       "if (outputEl) {{\n",
       "    x.observe(outputEl, {childList: true});\n",
       "}}\n",
       "\n",
       "                        })                };                });            </script>        </div>"
      ]
     },
     "metadata": {},
     "output_type": "display_data"
    }
   ],
   "source": [
    "fig = px.bar(hist_data, x=\"release_year\", y='show_id', color=\"type\")\n",
    "fig.show()"
   ]
  },
  {
   "cell_type": "markdown",
   "id": "09384946",
   "metadata": {
    "papermill": {
     "duration": 0.058279,
     "end_time": "2022-05-07T14:16:54.248754",
     "exception": false,
     "start_time": "2022-05-07T14:16:54.190475",
     "status": "completed"
    },
    "tags": []
   },
   "source": [
    "This is a bar chart to show the the amount of movies and TV-shows on Netflix by release year. On the x-axis we have release year and on the y-axis the sum of titles released, with Movies indicated by the red bar and TV-shows indicated by thr blue .\n",
    "From the histogram, we can see that the Netflix catalogue has a range of movies from 1942, to 2021 with the majority of the movies being released in the year 2021 "
   ]
  },
  {
   "cell_type": "markdown",
   "id": "7bcfdef6",
   "metadata": {
    "papermill": {
     "duration": 0.058363,
     "end_time": "2022-05-07T14:16:54.365581",
     "exception": false,
     "start_time": "2022-05-07T14:16:54.307218",
     "status": "completed"
    },
    "tags": []
   },
   "source": [
    "No we have an idea of the quantity of movies and there release dates I'd like to see if there is any information that can be \n",
    "gathered from the country data.\n",
    "I begin by creating a new dataframe of just the countries "
   ]
  },
  {
   "cell_type": "code",
   "execution_count": 23,
   "id": "e5d92900",
   "metadata": {
    "execution": {
     "iopub.execute_input": "2022-05-07T14:16:54.486381Z",
     "iopub.status.busy": "2022-05-07T14:16:54.485359Z",
     "iopub.status.idle": "2022-05-07T14:16:54.494401Z",
     "shell.execute_reply": "2022-05-07T14:16:54.494987Z",
     "shell.execute_reply.started": "2022-05-07T14:12:30.570280Z"
    },
    "papermill": {
     "duration": 0.071079,
     "end_time": "2022-05-07T14:16:54.495149",
     "exception": false,
     "start_time": "2022-05-07T14:16:54.424070",
     "status": "completed"
    },
    "tags": []
   },
   "outputs": [
    {
     "data": {
      "text/plain": [
       "United States     2812\n",
       "India              972\n",
       "United Kingdom     418\n",
       "Japan              244\n",
       "South Korea        199\n",
       "Canada             181\n",
       "Spain              145\n",
       "France             124\n",
       "Mexico             110\n",
       "Egypt              106\n",
       "Name: country, dtype: int64"
      ]
     },
     "execution_count": 23,
     "metadata": {},
     "output_type": "execute_result"
    }
   ],
   "source": [
    "countries = df['country'].value_counts()\n",
    "\n",
    "countries.head(10)"
   ]
  },
  {
   "cell_type": "markdown",
   "id": "22f8f79b",
   "metadata": {
    "papermill": {
     "duration": 0.059086,
     "end_time": "2022-05-07T14:16:54.613191",
     "exception": false,
     "start_time": "2022-05-07T14:16:54.554105",
     "status": "completed"
    },
    "tags": []
   },
   "source": [
    "Now I want to create a list of "
   ]
  },
  {
   "cell_type": "code",
   "execution_count": 24,
   "id": "4931b7cb",
   "metadata": {
    "execution": {
     "iopub.execute_input": "2022-05-07T14:16:54.735395Z",
     "iopub.status.busy": "2022-05-07T14:16:54.734454Z",
     "iopub.status.idle": "2022-05-07T14:16:54.738327Z",
     "shell.execute_reply": "2022-05-07T14:16:54.738840Z",
     "shell.execute_reply.started": "2022-05-07T14:12:30.585410Z"
    },
    "papermill": {
     "duration": 0.066595,
     "end_time": "2022-05-07T14:16:54.739002",
     "exception": false,
     "start_time": "2022-05-07T14:16:54.672407",
     "status": "completed"
    },
    "tags": []
   },
   "outputs": [],
   "source": [
    "country_list = ['United States', 'India', 'United Kingdom', 'Japan', 'South Korea', 'Canada',\n",
    "              'Spain', 'France', 'Mexico', 'Egypt']"
   ]
  },
  {
   "cell_type": "markdown",
   "id": "56d2973c",
   "metadata": {
    "papermill": {
     "duration": 0.058555,
     "end_time": "2022-05-07T14:16:54.856618",
     "exception": false,
     "start_time": "2022-05-07T14:16:54.798063",
     "status": "completed"
    },
    "tags": []
   },
   "source": [
    "I want to drop the countries that aren't in the top 10 country list and rename the show ID column to count or sum."
   ]
  },
  {
   "cell_type": "code",
   "execution_count": 25,
   "id": "2ed7ae9c",
   "metadata": {
    "execution": {
     "iopub.execute_input": "2022-05-07T14:16:54.979747Z",
     "iopub.status.busy": "2022-05-07T14:16:54.978666Z",
     "iopub.status.idle": "2022-05-07T14:16:55.000613Z",
     "shell.execute_reply": "2022-05-07T14:16:54.999881Z",
     "shell.execute_reply.started": "2022-05-07T14:12:30.594066Z"
    },
    "papermill": {
     "duration": 0.084229,
     "end_time": "2022-05-07T14:16:55.000775",
     "exception": false,
     "start_time": "2022-05-07T14:16:54.916546",
     "status": "completed"
    },
    "tags": []
   },
   "outputs": [
    {
     "data": {
      "text/html": [
       "<div>\n",
       "<style scoped>\n",
       "    .dataframe tbody tr th:only-of-type {\n",
       "        vertical-align: middle;\n",
       "    }\n",
       "\n",
       "    .dataframe tbody tr th {\n",
       "        vertical-align: top;\n",
       "    }\n",
       "\n",
       "    .dataframe thead th {\n",
       "        text-align: right;\n",
       "    }\n",
       "</style>\n",
       "<table border=\"1\" class=\"dataframe\">\n",
       "  <thead>\n",
       "    <tr style=\"text-align: right;\">\n",
       "      <th></th>\n",
       "      <th>country</th>\n",
       "      <th>type</th>\n",
       "      <th>show_id</th>\n",
       "    </tr>\n",
       "  </thead>\n",
       "  <tbody>\n",
       "    <tr>\n",
       "      <th>0</th>\n",
       "      <td>Canada</td>\n",
       "      <td>Movie</td>\n",
       "      <td>122</td>\n",
       "    </tr>\n",
       "    <tr>\n",
       "      <th>1</th>\n",
       "      <td>Canada</td>\n",
       "      <td>TV Show</td>\n",
       "      <td>59</td>\n",
       "    </tr>\n",
       "    <tr>\n",
       "      <th>2</th>\n",
       "      <td>Egypt</td>\n",
       "      <td>Movie</td>\n",
       "      <td>92</td>\n",
       "    </tr>\n",
       "    <tr>\n",
       "      <th>3</th>\n",
       "      <td>Egypt</td>\n",
       "      <td>TV Show</td>\n",
       "      <td>14</td>\n",
       "    </tr>\n",
       "    <tr>\n",
       "      <th>4</th>\n",
       "      <td>France</td>\n",
       "      <td>Movie</td>\n",
       "      <td>75</td>\n",
       "    </tr>\n",
       "  </tbody>\n",
       "</table>\n",
       "</div>"
      ],
      "text/plain": [
       "  country     type  show_id\n",
       "0  Canada    Movie      122\n",
       "1  Canada  TV Show       59\n",
       "2   Egypt    Movie       92\n",
       "3   Egypt  TV Show       14\n",
       "4  France    Movie       75"
      ]
     },
     "execution_count": 25,
     "metadata": {},
     "output_type": "execute_result"
    }
   ],
   "source": [
    "country_df = df[df['country'].isin(country_list)].reset_index()\n",
    "country_df =country_df.groupby(['country','type'])['show_id'].count().reset_index()\n",
    "country_df.head()"
   ]
  },
  {
   "cell_type": "code",
   "execution_count": 26,
   "id": "1a89ac29",
   "metadata": {
    "execution": {
     "iopub.execute_input": "2022-05-07T14:16:55.123234Z",
     "iopub.status.busy": "2022-05-07T14:16:55.122521Z",
     "iopub.status.idle": "2022-05-07T14:16:55.189399Z",
     "shell.execute_reply": "2022-05-07T14:16:55.189922Z",
     "shell.execute_reply.started": "2022-05-07T14:12:30.623635Z"
    },
    "papermill": {
     "duration": 0.129586,
     "end_time": "2022-05-07T14:16:55.190098",
     "exception": false,
     "start_time": "2022-05-07T14:16:55.060512",
     "status": "completed"
    },
    "tags": []
   },
   "outputs": [
    {
     "data": {
      "text/html": [
       "<div>                            <div id=\"3f398c25-43d2-491b-ac0f-36d11dbf3c7d\" class=\"plotly-graph-div\" style=\"height:525px; width:100%;\"></div>            <script type=\"text/javascript\">                require([\"plotly\"], function(Plotly) {                    window.PLOTLYENV=window.PLOTLYENV || {};                                    if (document.getElementById(\"3f398c25-43d2-491b-ac0f-36d11dbf3c7d\")) {                    Plotly.newPlot(                        \"3f398c25-43d2-491b-ac0f-36d11dbf3c7d\",                        [{\"alignmentgroup\":\"True\",\"hovertemplate\":\"type=Movie<br>country=%{x}<br>show_id=%{y}<extra></extra>\",\"legendgroup\":\"Movie\",\"marker\":{\"color\":\"#636efa\",\"pattern\":{\"shape\":\"\"}},\"name\":\"Movie\",\"offsetgroup\":\"Movie\",\"orientation\":\"v\",\"showlegend\":true,\"textposition\":\"auto\",\"x\":[\"Canada\",\"Egypt\",\"France\",\"India\",\"Japan\",\"Mexico\",\"South Korea\",\"Spain\",\"United Kingdom\",\"United States\"],\"xaxis\":\"x\",\"y\":[122,92,75,893,76,70,41,97,206,2058],\"yaxis\":\"y\",\"type\":\"bar\"},{\"alignmentgroup\":\"True\",\"hovertemplate\":\"type=TV Show<br>country=%{x}<br>show_id=%{y}<extra></extra>\",\"legendgroup\":\"TV Show\",\"marker\":{\"color\":\"#EF553B\",\"pattern\":{\"shape\":\"\"}},\"name\":\"TV Show\",\"offsetgroup\":\"TV Show\",\"orientation\":\"v\",\"showlegend\":true,\"textposition\":\"auto\",\"x\":[\"Canada\",\"Egypt\",\"France\",\"India\",\"Japan\",\"Mexico\",\"South Korea\",\"Spain\",\"United Kingdom\",\"United States\"],\"xaxis\":\"x\",\"y\":[59,14,49,79,168,40,158,48,212,754],\"yaxis\":\"y\",\"type\":\"bar\"}],                        {\"template\":{\"data\":{\"bar\":[{\"error_x\":{\"color\":\"#2a3f5f\"},\"error_y\":{\"color\":\"#2a3f5f\"},\"marker\":{\"line\":{\"color\":\"#E5ECF6\",\"width\":0.5},\"pattern\":{\"fillmode\":\"overlay\",\"size\":10,\"solidity\":0.2}},\"type\":\"bar\"}],\"barpolar\":[{\"marker\":{\"line\":{\"color\":\"#E5ECF6\",\"width\":0.5},\"pattern\":{\"fillmode\":\"overlay\",\"size\":10,\"solidity\":0.2}},\"type\":\"barpolar\"}],\"carpet\":[{\"aaxis\":{\"endlinecolor\":\"#2a3f5f\",\"gridcolor\":\"white\",\"linecolor\":\"white\",\"minorgridcolor\":\"white\",\"startlinecolor\":\"#2a3f5f\"},\"baxis\":{\"endlinecolor\":\"#2a3f5f\",\"gridcolor\":\"white\",\"linecolor\":\"white\",\"minorgridcolor\":\"white\",\"startlinecolor\":\"#2a3f5f\"},\"type\":\"carpet\"}],\"choropleth\":[{\"colorbar\":{\"outlinewidth\":0,\"ticks\":\"\"},\"type\":\"choropleth\"}],\"contour\":[{\"colorbar\":{\"outlinewidth\":0,\"ticks\":\"\"},\"colorscale\":[[0.0,\"#0d0887\"],[0.1111111111111111,\"#46039f\"],[0.2222222222222222,\"#7201a8\"],[0.3333333333333333,\"#9c179e\"],[0.4444444444444444,\"#bd3786\"],[0.5555555555555556,\"#d8576b\"],[0.6666666666666666,\"#ed7953\"],[0.7777777777777778,\"#fb9f3a\"],[0.8888888888888888,\"#fdca26\"],[1.0,\"#f0f921\"]],\"type\":\"contour\"}],\"contourcarpet\":[{\"colorbar\":{\"outlinewidth\":0,\"ticks\":\"\"},\"type\":\"contourcarpet\"}],\"heatmap\":[{\"colorbar\":{\"outlinewidth\":0,\"ticks\":\"\"},\"colorscale\":[[0.0,\"#0d0887\"],[0.1111111111111111,\"#46039f\"],[0.2222222222222222,\"#7201a8\"],[0.3333333333333333,\"#9c179e\"],[0.4444444444444444,\"#bd3786\"],[0.5555555555555556,\"#d8576b\"],[0.6666666666666666,\"#ed7953\"],[0.7777777777777778,\"#fb9f3a\"],[0.8888888888888888,\"#fdca26\"],[1.0,\"#f0f921\"]],\"type\":\"heatmap\"}],\"heatmapgl\":[{\"colorbar\":{\"outlinewidth\":0,\"ticks\":\"\"},\"colorscale\":[[0.0,\"#0d0887\"],[0.1111111111111111,\"#46039f\"],[0.2222222222222222,\"#7201a8\"],[0.3333333333333333,\"#9c179e\"],[0.4444444444444444,\"#bd3786\"],[0.5555555555555556,\"#d8576b\"],[0.6666666666666666,\"#ed7953\"],[0.7777777777777778,\"#fb9f3a\"],[0.8888888888888888,\"#fdca26\"],[1.0,\"#f0f921\"]],\"type\":\"heatmapgl\"}],\"histogram\":[{\"marker\":{\"pattern\":{\"fillmode\":\"overlay\",\"size\":10,\"solidity\":0.2}},\"type\":\"histogram\"}],\"histogram2d\":[{\"colorbar\":{\"outlinewidth\":0,\"ticks\":\"\"},\"colorscale\":[[0.0,\"#0d0887\"],[0.1111111111111111,\"#46039f\"],[0.2222222222222222,\"#7201a8\"],[0.3333333333333333,\"#9c179e\"],[0.4444444444444444,\"#bd3786\"],[0.5555555555555556,\"#d8576b\"],[0.6666666666666666,\"#ed7953\"],[0.7777777777777778,\"#fb9f3a\"],[0.8888888888888888,\"#fdca26\"],[1.0,\"#f0f921\"]],\"type\":\"histogram2d\"}],\"histogram2dcontour\":[{\"colorbar\":{\"outlinewidth\":0,\"ticks\":\"\"},\"colorscale\":[[0.0,\"#0d0887\"],[0.1111111111111111,\"#46039f\"],[0.2222222222222222,\"#7201a8\"],[0.3333333333333333,\"#9c179e\"],[0.4444444444444444,\"#bd3786\"],[0.5555555555555556,\"#d8576b\"],[0.6666666666666666,\"#ed7953\"],[0.7777777777777778,\"#fb9f3a\"],[0.8888888888888888,\"#fdca26\"],[1.0,\"#f0f921\"]],\"type\":\"histogram2dcontour\"}],\"mesh3d\":[{\"colorbar\":{\"outlinewidth\":0,\"ticks\":\"\"},\"type\":\"mesh3d\"}],\"parcoords\":[{\"line\":{\"colorbar\":{\"outlinewidth\":0,\"ticks\":\"\"}},\"type\":\"parcoords\"}],\"pie\":[{\"automargin\":true,\"type\":\"pie\"}],\"scatter\":[{\"marker\":{\"colorbar\":{\"outlinewidth\":0,\"ticks\":\"\"}},\"type\":\"scatter\"}],\"scatter3d\":[{\"line\":{\"colorbar\":{\"outlinewidth\":0,\"ticks\":\"\"}},\"marker\":{\"colorbar\":{\"outlinewidth\":0,\"ticks\":\"\"}},\"type\":\"scatter3d\"}],\"scattercarpet\":[{\"marker\":{\"colorbar\":{\"outlinewidth\":0,\"ticks\":\"\"}},\"type\":\"scattercarpet\"}],\"scattergeo\":[{\"marker\":{\"colorbar\":{\"outlinewidth\":0,\"ticks\":\"\"}},\"type\":\"scattergeo\"}],\"scattergl\":[{\"marker\":{\"colorbar\":{\"outlinewidth\":0,\"ticks\":\"\"}},\"type\":\"scattergl\"}],\"scattermapbox\":[{\"marker\":{\"colorbar\":{\"outlinewidth\":0,\"ticks\":\"\"}},\"type\":\"scattermapbox\"}],\"scatterpolar\":[{\"marker\":{\"colorbar\":{\"outlinewidth\":0,\"ticks\":\"\"}},\"type\":\"scatterpolar\"}],\"scatterpolargl\":[{\"marker\":{\"colorbar\":{\"outlinewidth\":0,\"ticks\":\"\"}},\"type\":\"scatterpolargl\"}],\"scatterternary\":[{\"marker\":{\"colorbar\":{\"outlinewidth\":0,\"ticks\":\"\"}},\"type\":\"scatterternary\"}],\"surface\":[{\"colorbar\":{\"outlinewidth\":0,\"ticks\":\"\"},\"colorscale\":[[0.0,\"#0d0887\"],[0.1111111111111111,\"#46039f\"],[0.2222222222222222,\"#7201a8\"],[0.3333333333333333,\"#9c179e\"],[0.4444444444444444,\"#bd3786\"],[0.5555555555555556,\"#d8576b\"],[0.6666666666666666,\"#ed7953\"],[0.7777777777777778,\"#fb9f3a\"],[0.8888888888888888,\"#fdca26\"],[1.0,\"#f0f921\"]],\"type\":\"surface\"}],\"table\":[{\"cells\":{\"fill\":{\"color\":\"#EBF0F8\"},\"line\":{\"color\":\"white\"}},\"header\":{\"fill\":{\"color\":\"#C8D4E3\"},\"line\":{\"color\":\"white\"}},\"type\":\"table\"}]},\"layout\":{\"annotationdefaults\":{\"arrowcolor\":\"#2a3f5f\",\"arrowhead\":0,\"arrowwidth\":1},\"autotypenumbers\":\"strict\",\"coloraxis\":{\"colorbar\":{\"outlinewidth\":0,\"ticks\":\"\"}},\"colorscale\":{\"diverging\":[[0,\"#8e0152\"],[0.1,\"#c51b7d\"],[0.2,\"#de77ae\"],[0.3,\"#f1b6da\"],[0.4,\"#fde0ef\"],[0.5,\"#f7f7f7\"],[0.6,\"#e6f5d0\"],[0.7,\"#b8e186\"],[0.8,\"#7fbc41\"],[0.9,\"#4d9221\"],[1,\"#276419\"]],\"sequential\":[[0.0,\"#0d0887\"],[0.1111111111111111,\"#46039f\"],[0.2222222222222222,\"#7201a8\"],[0.3333333333333333,\"#9c179e\"],[0.4444444444444444,\"#bd3786\"],[0.5555555555555556,\"#d8576b\"],[0.6666666666666666,\"#ed7953\"],[0.7777777777777778,\"#fb9f3a\"],[0.8888888888888888,\"#fdca26\"],[1.0,\"#f0f921\"]],\"sequentialminus\":[[0.0,\"#0d0887\"],[0.1111111111111111,\"#46039f\"],[0.2222222222222222,\"#7201a8\"],[0.3333333333333333,\"#9c179e\"],[0.4444444444444444,\"#bd3786\"],[0.5555555555555556,\"#d8576b\"],[0.6666666666666666,\"#ed7953\"],[0.7777777777777778,\"#fb9f3a\"],[0.8888888888888888,\"#fdca26\"],[1.0,\"#f0f921\"]]},\"colorway\":[\"#636efa\",\"#EF553B\",\"#00cc96\",\"#ab63fa\",\"#FFA15A\",\"#19d3f3\",\"#FF6692\",\"#B6E880\",\"#FF97FF\",\"#FECB52\"],\"font\":{\"color\":\"#2a3f5f\"},\"geo\":{\"bgcolor\":\"white\",\"lakecolor\":\"white\",\"landcolor\":\"#E5ECF6\",\"showlakes\":true,\"showland\":true,\"subunitcolor\":\"white\"},\"hoverlabel\":{\"align\":\"left\"},\"hovermode\":\"closest\",\"mapbox\":{\"style\":\"light\"},\"paper_bgcolor\":\"white\",\"plot_bgcolor\":\"#E5ECF6\",\"polar\":{\"angularaxis\":{\"gridcolor\":\"white\",\"linecolor\":\"white\",\"ticks\":\"\"},\"bgcolor\":\"#E5ECF6\",\"radialaxis\":{\"gridcolor\":\"white\",\"linecolor\":\"white\",\"ticks\":\"\"}},\"scene\":{\"xaxis\":{\"backgroundcolor\":\"#E5ECF6\",\"gridcolor\":\"white\",\"gridwidth\":2,\"linecolor\":\"white\",\"showbackground\":true,\"ticks\":\"\",\"zerolinecolor\":\"white\"},\"yaxis\":{\"backgroundcolor\":\"#E5ECF6\",\"gridcolor\":\"white\",\"gridwidth\":2,\"linecolor\":\"white\",\"showbackground\":true,\"ticks\":\"\",\"zerolinecolor\":\"white\"},\"zaxis\":{\"backgroundcolor\":\"#E5ECF6\",\"gridcolor\":\"white\",\"gridwidth\":2,\"linecolor\":\"white\",\"showbackground\":true,\"ticks\":\"\",\"zerolinecolor\":\"white\"}},\"shapedefaults\":{\"line\":{\"color\":\"#2a3f5f\"}},\"ternary\":{\"aaxis\":{\"gridcolor\":\"white\",\"linecolor\":\"white\",\"ticks\":\"\"},\"baxis\":{\"gridcolor\":\"white\",\"linecolor\":\"white\",\"ticks\":\"\"},\"bgcolor\":\"#E5ECF6\",\"caxis\":{\"gridcolor\":\"white\",\"linecolor\":\"white\",\"ticks\":\"\"}},\"title\":{\"x\":0.05},\"xaxis\":{\"automargin\":true,\"gridcolor\":\"white\",\"linecolor\":\"white\",\"ticks\":\"\",\"title\":{\"standoff\":15},\"zerolinecolor\":\"white\",\"zerolinewidth\":2},\"yaxis\":{\"automargin\":true,\"gridcolor\":\"white\",\"linecolor\":\"white\",\"ticks\":\"\",\"title\":{\"standoff\":15},\"zerolinecolor\":\"white\",\"zerolinewidth\":2}}},\"xaxis\":{\"anchor\":\"y\",\"domain\":[0.0,1.0],\"title\":{\"text\":\"country\"}},\"yaxis\":{\"anchor\":\"x\",\"domain\":[0.0,1.0],\"title\":{\"text\":\"show_id\"}},\"legend\":{\"title\":{\"text\":\"type\"},\"tracegroupgap\":0},\"margin\":{\"t\":60},\"barmode\":\"group\"},                        {\"responsive\": true}                    ).then(function(){\n",
       "                            \n",
       "var gd = document.getElementById('3f398c25-43d2-491b-ac0f-36d11dbf3c7d');\n",
       "var x = new MutationObserver(function (mutations, observer) {{\n",
       "        var display = window.getComputedStyle(gd).display;\n",
       "        if (!display || display === 'none') {{\n",
       "            console.log([gd, 'removed!']);\n",
       "            Plotly.purge(gd);\n",
       "            observer.disconnect();\n",
       "        }}\n",
       "}});\n",
       "\n",
       "// Listen for the removal of the full notebook cells\n",
       "var notebookContainer = gd.closest('#notebook-container');\n",
       "if (notebookContainer) {{\n",
       "    x.observe(notebookContainer, {childList: true});\n",
       "}}\n",
       "\n",
       "// Listen for the clearing of the current output cell\n",
       "var outputEl = gd.closest('.output');\n",
       "if (outputEl) {{\n",
       "    x.observe(outputEl, {childList: true});\n",
       "}}\n",
       "\n",
       "                        })                };                });            </script>        </div>"
      ]
     },
     "metadata": {},
     "output_type": "display_data"
    }
   ],
   "source": [
    "fig = px.bar(country_df, x=\"country\", y=\"show_id\",\n",
    "             color='type', barmode='group')\n",
    "fig.show()"
   ]
  },
  {
   "cell_type": "markdown",
   "id": "35bbaae9",
   "metadata": {
    "papermill": {
     "duration": 0.059597,
     "end_time": "2022-05-07T14:16:55.309945",
     "exception": false,
     "start_time": "2022-05-07T14:16:55.250348",
     "status": "completed"
    },
    "tags": []
   },
   "source": [
    "This graph shows the top 10 content makers for Netflix and that the United States produces the most content on Netflix \n",
    "For TV shows this is followed secondly by India, then the UK\n",
    "In 10th place for movies we have Egypt"
   ]
  },
  {
   "cell_type": "code",
   "execution_count": 27,
   "id": "92abaf29",
   "metadata": {
    "execution": {
     "iopub.execute_input": "2022-05-07T14:16:55.434514Z",
     "iopub.status.busy": "2022-05-07T14:16:55.433816Z",
     "iopub.status.idle": "2022-05-07T14:16:55.440238Z",
     "shell.execute_reply": "2022-05-07T14:16:55.440802Z",
     "shell.execute_reply.started": "2022-05-07T14:12:30.699902Z"
    },
    "papermill": {
     "duration": 0.070595,
     "end_time": "2022-05-07T14:16:55.440980",
     "exception": false,
     "start_time": "2022-05-07T14:16:55.370385",
     "status": "completed"
    },
    "tags": []
   },
   "outputs": [
    {
     "data": {
      "text/plain": [
       "show_id         object\n",
       "type            object\n",
       "title           object\n",
       "director        object\n",
       "cast            object\n",
       "country         object\n",
       "date_added      object\n",
       "release_year     int64\n",
       "rating          object\n",
       "duration        object\n",
       "listed_in       object\n",
       "description     object\n",
       "dtype: object"
      ]
     },
     "execution_count": 27,
     "metadata": {},
     "output_type": "execute_result"
    }
   ],
   "source": [
    "df.dtypes"
   ]
  },
  {
   "cell_type": "code",
   "execution_count": 28,
   "id": "fce2289f",
   "metadata": {
    "execution": {
     "iopub.execute_input": "2022-05-07T14:16:55.567480Z",
     "iopub.status.busy": "2022-05-07T14:16:55.566793Z",
     "iopub.status.idle": "2022-05-07T14:16:55.571933Z",
     "shell.execute_reply": "2022-05-07T14:16:55.572479Z",
     "shell.execute_reply.started": "2022-05-07T14:12:30.710720Z"
    },
    "papermill": {
     "duration": 0.069514,
     "end_time": "2022-05-07T14:16:55.572652",
     "exception": false,
     "start_time": "2022-05-07T14:16:55.503138",
     "status": "completed"
    },
    "tags": []
   },
   "outputs": [],
   "source": [
    "df['year_added'] = str(df['date_added'])"
   ]
  },
  {
   "cell_type": "code",
   "execution_count": 29,
   "id": "9f4fdf07",
   "metadata": {
    "execution": {
     "iopub.execute_input": "2022-05-07T14:16:55.701164Z",
     "iopub.status.busy": "2022-05-07T14:16:55.700456Z",
     "iopub.status.idle": "2022-05-07T14:16:55.703045Z",
     "shell.execute_reply": "2022-05-07T14:16:55.703534Z",
     "shell.execute_reply.started": "2022-05-07T14:12:30.725529Z"
    },
    "papermill": {
     "duration": 0.070006,
     "end_time": "2022-05-07T14:16:55.703700",
     "exception": false,
     "start_time": "2022-05-07T14:16:55.633694",
     "status": "completed"
    },
    "tags": []
   },
   "outputs": [
    {
     "data": {
      "text/plain": [
       "show_id         object\n",
       "type            object\n",
       "title           object\n",
       "director        object\n",
       "cast            object\n",
       "country         object\n",
       "date_added      object\n",
       "release_year     int64\n",
       "rating          object\n",
       "duration        object\n",
       "listed_in       object\n",
       "description     object\n",
       "year_added      object\n",
       "dtype: object"
      ]
     },
     "execution_count": 29,
     "metadata": {},
     "output_type": "execute_result"
    }
   ],
   "source": [
    "df.dtypes"
   ]
  },
  {
   "cell_type": "code",
   "execution_count": 30,
   "id": "fbbe4638",
   "metadata": {
    "execution": {
     "iopub.execute_input": "2022-05-07T14:16:55.830657Z",
     "iopub.status.busy": "2022-05-07T14:16:55.829988Z",
     "iopub.status.idle": "2022-05-07T14:16:56.036102Z",
     "shell.execute_reply": "2022-05-07T14:16:56.035515Z",
     "shell.execute_reply.started": "2022-05-07T14:12:30.743656Z"
    },
    "papermill": {
     "duration": 0.271968,
     "end_time": "2022-05-07T14:16:56.036245",
     "exception": false,
     "start_time": "2022-05-07T14:16:55.764277",
     "status": "completed"
    },
    "tags": []
   },
   "outputs": [],
   "source": [
    "df['date_added'] = pd.to_datetime(df['date_added'])\n",
    "\n"
   ]
  },
  {
   "cell_type": "code",
   "execution_count": 31,
   "id": "8dcfda3a",
   "metadata": {
    "execution": {
     "iopub.execute_input": "2022-05-07T14:16:56.168052Z",
     "iopub.status.busy": "2022-05-07T14:16:56.167360Z",
     "iopub.status.idle": "2022-05-07T14:16:56.171354Z",
     "shell.execute_reply": "2022-05-07T14:16:56.170763Z",
     "shell.execute_reply.started": "2022-05-07T14:12:30.961593Z"
    },
    "papermill": {
     "duration": 0.071776,
     "end_time": "2022-05-07T14:16:56.171507",
     "exception": false,
     "start_time": "2022-05-07T14:16:56.099731",
     "status": "completed"
    },
    "tags": []
   },
   "outputs": [
    {
     "data": {
      "text/plain": [
       "show_id                 object\n",
       "type                    object\n",
       "title                   object\n",
       "director                object\n",
       "cast                    object\n",
       "country                 object\n",
       "date_added      datetime64[ns]\n",
       "release_year             int64\n",
       "rating                  object\n",
       "duration                object\n",
       "listed_in               object\n",
       "description             object\n",
       "year_added              object\n",
       "dtype: object"
      ]
     },
     "execution_count": 31,
     "metadata": {},
     "output_type": "execute_result"
    }
   ],
   "source": [
    "df.dtypes"
   ]
  },
  {
   "cell_type": "code",
   "execution_count": 32,
   "id": "656bbbf7",
   "metadata": {
    "execution": {
     "iopub.execute_input": "2022-05-07T14:16:56.296994Z",
     "iopub.status.busy": "2022-05-07T14:16:56.296298Z",
     "iopub.status.idle": "2022-05-07T14:16:56.299306Z",
     "shell.execute_reply": "2022-05-07T14:16:56.299846Z",
     "shell.execute_reply.started": "2022-05-07T14:12:30.972655Z"
    },
    "papermill": {
     "duration": 0.067381,
     "end_time": "2022-05-07T14:16:56.300023",
     "exception": false,
     "start_time": "2022-05-07T14:16:56.232642",
     "status": "completed"
    },
    "tags": []
   },
   "outputs": [],
   "source": [
    "import datetime"
   ]
  },
  {
   "cell_type": "code",
   "execution_count": 33,
   "id": "464270fa",
   "metadata": {
    "execution": {
     "iopub.execute_input": "2022-05-07T14:16:56.427120Z",
     "iopub.status.busy": "2022-05-07T14:16:56.426419Z",
     "iopub.status.idle": "2022-05-07T14:16:56.431013Z",
     "shell.execute_reply": "2022-05-07T14:16:56.430514Z",
     "shell.execute_reply.started": "2022-05-07T14:12:30.982807Z"
    },
    "papermill": {
     "duration": 0.07009,
     "end_time": "2022-05-07T14:16:56.431160",
     "exception": false,
     "start_time": "2022-05-07T14:16:56.361070",
     "status": "completed"
    },
    "tags": []
   },
   "outputs": [],
   "source": [
    "df['time'] = pd.DatetimeIndex(df['date_added']).year\n"
   ]
  },
  {
   "cell_type": "code",
   "execution_count": 34,
   "id": "95432864",
   "metadata": {
    "execution": {
     "iopub.execute_input": "2022-05-07T14:16:56.559289Z",
     "iopub.status.busy": "2022-05-07T14:16:56.556124Z",
     "iopub.status.idle": "2022-05-07T14:16:56.561948Z",
     "shell.execute_reply": "2022-05-07T14:16:56.562479Z",
     "shell.execute_reply.started": "2022-05-07T14:12:30.997773Z"
    },
    "papermill": {
     "duration": 0.070584,
     "end_time": "2022-05-07T14:16:56.562642",
     "exception": false,
     "start_time": "2022-05-07T14:16:56.492058",
     "status": "completed"
    },
    "tags": []
   },
   "outputs": [
    {
     "data": {
      "text/plain": [
       "0    2021\n",
       "1    2021\n",
       "2    2021\n",
       "3    2021\n",
       "4    2021\n",
       "5    2021\n",
       "6    2021\n",
       "7    2021\n",
       "8    2021\n",
       "9    2021\n",
       "Name: time, dtype: int64"
      ]
     },
     "execution_count": 34,
     "metadata": {},
     "output_type": "execute_result"
    }
   ],
   "source": [
    "df['time'].head(10)"
   ]
  },
  {
   "cell_type": "code",
   "execution_count": 35,
   "id": "b9f52fab",
   "metadata": {
    "execution": {
     "iopub.execute_input": "2022-05-07T14:16:56.688807Z",
     "iopub.status.busy": "2022-05-07T14:16:56.688192Z",
     "iopub.status.idle": "2022-05-07T14:16:56.692748Z",
     "shell.execute_reply": "2022-05-07T14:16:56.693246Z",
     "shell.execute_reply.started": "2022-05-07T14:12:31.010149Z"
    },
    "papermill": {
     "duration": 0.069583,
     "end_time": "2022-05-07T14:16:56.693412",
     "exception": false,
     "start_time": "2022-05-07T14:16:56.623829",
     "status": "completed"
    },
    "tags": []
   },
   "outputs": [],
   "source": [
    "df['long'] = df['time']-df['release_year']"
   ]
  },
  {
   "cell_type": "code",
   "execution_count": 36,
   "id": "1da8c84a",
   "metadata": {
    "execution": {
     "iopub.execute_input": "2022-05-07T14:16:56.819328Z",
     "iopub.status.busy": "2022-05-07T14:16:56.818676Z",
     "iopub.status.idle": "2022-05-07T14:16:56.824791Z",
     "shell.execute_reply": "2022-05-07T14:16:56.825274Z",
     "shell.execute_reply.started": "2022-05-07T14:12:31.022625Z"
    },
    "papermill": {
     "duration": 0.070511,
     "end_time": "2022-05-07T14:16:56.825451",
     "exception": false,
     "start_time": "2022-05-07T14:16:56.754940",
     "status": "completed"
    },
    "tags": []
   },
   "outputs": [
    {
     "data": {
      "text/plain": [
       "0        1\n",
       "1        0\n",
       "2        0\n",
       "3        0\n",
       "4        0\n",
       "        ..\n",
       "8792    12\n",
       "8793     1\n",
       "8794    10\n",
       "8795    14\n",
       "8796     4\n",
       "Name: long, Length: 8797, dtype: int64"
      ]
     },
     "execution_count": 36,
     "metadata": {},
     "output_type": "execute_result"
    }
   ],
   "source": [
    "df['long']"
   ]
  },
  {
   "cell_type": "code",
   "execution_count": 37,
   "id": "3253e6ae",
   "metadata": {
    "execution": {
     "iopub.execute_input": "2022-05-07T14:16:56.954389Z",
     "iopub.status.busy": "2022-05-07T14:16:56.953776Z",
     "iopub.status.idle": "2022-05-07T14:16:56.964660Z",
     "shell.execute_reply": "2022-05-07T14:16:56.965183Z",
     "shell.execute_reply.started": "2022-05-07T14:12:31.038958Z"
    },
    "papermill": {
     "duration": 0.076128,
     "end_time": "2022-05-07T14:16:56.965358",
     "exception": false,
     "start_time": "2022-05-07T14:16:56.889230",
     "status": "completed"
    },
    "tags": []
   },
   "outputs": [],
   "source": [
    "df.drop(df[df.long < 0].index, inplace=True)"
   ]
  },
  {
   "cell_type": "code",
   "execution_count": 38,
   "id": "e1b55c95",
   "metadata": {
    "execution": {
     "iopub.execute_input": "2022-05-07T14:16:57.105089Z",
     "iopub.status.busy": "2022-05-07T14:16:57.104026Z",
     "iopub.status.idle": "2022-05-07T14:16:57.118224Z",
     "shell.execute_reply": "2022-05-07T14:16:57.119064Z",
     "shell.execute_reply.started": "2022-05-07T14:12:31.056929Z"
    },
    "papermill": {
     "duration": 0.090723,
     "end_time": "2022-05-07T14:16:57.119310",
     "exception": false,
     "start_time": "2022-05-07T14:16:57.028587",
     "status": "completed"
    },
    "tags": []
   },
   "outputs": [
    {
     "data": {
      "text/plain": [
       "count    8783.000000\n",
       "mean        4.697825\n",
       "std         8.790808\n",
       "min         0.000000\n",
       "25%         0.000000\n",
       "50%         1.000000\n",
       "75%         5.000000\n",
       "max        93.000000\n",
       "Name: long, dtype: float64"
      ]
     },
     "execution_count": 38,
     "metadata": {},
     "output_type": "execute_result"
    }
   ],
   "source": [
    "df['long'].describe()"
   ]
  },
  {
   "cell_type": "code",
   "execution_count": 39,
   "id": "3fff55ed",
   "metadata": {
    "execution": {
     "iopub.execute_input": "2022-05-07T14:16:57.254767Z",
     "iopub.status.busy": "2022-05-07T14:16:57.254140Z",
     "iopub.status.idle": "2022-05-07T14:16:57.320666Z",
     "shell.execute_reply": "2022-05-07T14:16:57.320115Z",
     "shell.execute_reply.started": "2022-05-07T14:12:31.072316Z"
    },
    "papermill": {
     "duration": 0.131324,
     "end_time": "2022-05-07T14:16:57.320831",
     "exception": false,
     "start_time": "2022-05-07T14:16:57.189507",
     "status": "completed"
    },
    "tags": []
   },
   "outputs": [
    {
     "data": {
      "text/html": [
       "<div>                            <div id=\"8f333251-e05c-43a6-9cbe-079ab8a6fbe7\" class=\"plotly-graph-div\" style=\"height:525px; width:100%;\"></div>            <script type=\"text/javascript\">                require([\"plotly\"], function(Plotly) {                    window.PLOTLYENV=window.PLOTLYENV || {};                                    if (document.getElementById(\"8f333251-e05c-43a6-9cbe-079ab8a6fbe7\")) {                    Plotly.newPlot(                        \"8f333251-e05c-43a6-9cbe-079ab8a6fbe7\",                        [{\"alignmentgroup\":\"True\",\"hovertemplate\":\"long=%{x}<br>show_id=%{y}<extra></extra>\",\"legendgroup\":\"\",\"marker\":{\"color\":\"#636efa\",\"pattern\":{\"shape\":\"\"}},\"name\":\"\",\"offsetgroup\":\"\",\"orientation\":\"v\",\"showlegend\":false,\"textposition\":\"auto\",\"x\":[0,1,2,3,4,5,6,7,8,9,10,11,12,13,14,15,16,17,18,19,20,21,22,23,24,25,26,27,28,29,30,31,32,33,34,35,36,37,38,39,40,41,42,43,44,45,46,47,48,49,50,51,52,54,55,57,59,60,61,62,63,64,65,66,70,71,72,73,74,75,76,93],\"xaxis\":\"x\",\"y\":[3241,1585,714,491,367,261,251,187,185,161,135,135,98,97,76,59,62,50,57,32,39,43,36,32,32,28,23,24,17,21,13,11,9,12,12,12,9,17,13,11,13,11,3,11,6,8,10,4,2,5,2,4,3,5,2,5,3,1,2,2,1,2,2,2,1,2,3,3,3,2,1,1],\"yaxis\":\"y\",\"type\":\"bar\"}],                        {\"template\":{\"data\":{\"bar\":[{\"error_x\":{\"color\":\"#2a3f5f\"},\"error_y\":{\"color\":\"#2a3f5f\"},\"marker\":{\"line\":{\"color\":\"#E5ECF6\",\"width\":0.5},\"pattern\":{\"fillmode\":\"overlay\",\"size\":10,\"solidity\":0.2}},\"type\":\"bar\"}],\"barpolar\":[{\"marker\":{\"line\":{\"color\":\"#E5ECF6\",\"width\":0.5},\"pattern\":{\"fillmode\":\"overlay\",\"size\":10,\"solidity\":0.2}},\"type\":\"barpolar\"}],\"carpet\":[{\"aaxis\":{\"endlinecolor\":\"#2a3f5f\",\"gridcolor\":\"white\",\"linecolor\":\"white\",\"minorgridcolor\":\"white\",\"startlinecolor\":\"#2a3f5f\"},\"baxis\":{\"endlinecolor\":\"#2a3f5f\",\"gridcolor\":\"white\",\"linecolor\":\"white\",\"minorgridcolor\":\"white\",\"startlinecolor\":\"#2a3f5f\"},\"type\":\"carpet\"}],\"choropleth\":[{\"colorbar\":{\"outlinewidth\":0,\"ticks\":\"\"},\"type\":\"choropleth\"}],\"contour\":[{\"colorbar\":{\"outlinewidth\":0,\"ticks\":\"\"},\"colorscale\":[[0.0,\"#0d0887\"],[0.1111111111111111,\"#46039f\"],[0.2222222222222222,\"#7201a8\"],[0.3333333333333333,\"#9c179e\"],[0.4444444444444444,\"#bd3786\"],[0.5555555555555556,\"#d8576b\"],[0.6666666666666666,\"#ed7953\"],[0.7777777777777778,\"#fb9f3a\"],[0.8888888888888888,\"#fdca26\"],[1.0,\"#f0f921\"]],\"type\":\"contour\"}],\"contourcarpet\":[{\"colorbar\":{\"outlinewidth\":0,\"ticks\":\"\"},\"type\":\"contourcarpet\"}],\"heatmap\":[{\"colorbar\":{\"outlinewidth\":0,\"ticks\":\"\"},\"colorscale\":[[0.0,\"#0d0887\"],[0.1111111111111111,\"#46039f\"],[0.2222222222222222,\"#7201a8\"],[0.3333333333333333,\"#9c179e\"],[0.4444444444444444,\"#bd3786\"],[0.5555555555555556,\"#d8576b\"],[0.6666666666666666,\"#ed7953\"],[0.7777777777777778,\"#fb9f3a\"],[0.8888888888888888,\"#fdca26\"],[1.0,\"#f0f921\"]],\"type\":\"heatmap\"}],\"heatmapgl\":[{\"colorbar\":{\"outlinewidth\":0,\"ticks\":\"\"},\"colorscale\":[[0.0,\"#0d0887\"],[0.1111111111111111,\"#46039f\"],[0.2222222222222222,\"#7201a8\"],[0.3333333333333333,\"#9c179e\"],[0.4444444444444444,\"#bd3786\"],[0.5555555555555556,\"#d8576b\"],[0.6666666666666666,\"#ed7953\"],[0.7777777777777778,\"#fb9f3a\"],[0.8888888888888888,\"#fdca26\"],[1.0,\"#f0f921\"]],\"type\":\"heatmapgl\"}],\"histogram\":[{\"marker\":{\"pattern\":{\"fillmode\":\"overlay\",\"size\":10,\"solidity\":0.2}},\"type\":\"histogram\"}],\"histogram2d\":[{\"colorbar\":{\"outlinewidth\":0,\"ticks\":\"\"},\"colorscale\":[[0.0,\"#0d0887\"],[0.1111111111111111,\"#46039f\"],[0.2222222222222222,\"#7201a8\"],[0.3333333333333333,\"#9c179e\"],[0.4444444444444444,\"#bd3786\"],[0.5555555555555556,\"#d8576b\"],[0.6666666666666666,\"#ed7953\"],[0.7777777777777778,\"#fb9f3a\"],[0.8888888888888888,\"#fdca26\"],[1.0,\"#f0f921\"]],\"type\":\"histogram2d\"}],\"histogram2dcontour\":[{\"colorbar\":{\"outlinewidth\":0,\"ticks\":\"\"},\"colorscale\":[[0.0,\"#0d0887\"],[0.1111111111111111,\"#46039f\"],[0.2222222222222222,\"#7201a8\"],[0.3333333333333333,\"#9c179e\"],[0.4444444444444444,\"#bd3786\"],[0.5555555555555556,\"#d8576b\"],[0.6666666666666666,\"#ed7953\"],[0.7777777777777778,\"#fb9f3a\"],[0.8888888888888888,\"#fdca26\"],[1.0,\"#f0f921\"]],\"type\":\"histogram2dcontour\"}],\"mesh3d\":[{\"colorbar\":{\"outlinewidth\":0,\"ticks\":\"\"},\"type\":\"mesh3d\"}],\"parcoords\":[{\"line\":{\"colorbar\":{\"outlinewidth\":0,\"ticks\":\"\"}},\"type\":\"parcoords\"}],\"pie\":[{\"automargin\":true,\"type\":\"pie\"}],\"scatter\":[{\"marker\":{\"colorbar\":{\"outlinewidth\":0,\"ticks\":\"\"}},\"type\":\"scatter\"}],\"scatter3d\":[{\"line\":{\"colorbar\":{\"outlinewidth\":0,\"ticks\":\"\"}},\"marker\":{\"colorbar\":{\"outlinewidth\":0,\"ticks\":\"\"}},\"type\":\"scatter3d\"}],\"scattercarpet\":[{\"marker\":{\"colorbar\":{\"outlinewidth\":0,\"ticks\":\"\"}},\"type\":\"scattercarpet\"}],\"scattergeo\":[{\"marker\":{\"colorbar\":{\"outlinewidth\":0,\"ticks\":\"\"}},\"type\":\"scattergeo\"}],\"scattergl\":[{\"marker\":{\"colorbar\":{\"outlinewidth\":0,\"ticks\":\"\"}},\"type\":\"scattergl\"}],\"scattermapbox\":[{\"marker\":{\"colorbar\":{\"outlinewidth\":0,\"ticks\":\"\"}},\"type\":\"scattermapbox\"}],\"scatterpolar\":[{\"marker\":{\"colorbar\":{\"outlinewidth\":0,\"ticks\":\"\"}},\"type\":\"scatterpolar\"}],\"scatterpolargl\":[{\"marker\":{\"colorbar\":{\"outlinewidth\":0,\"ticks\":\"\"}},\"type\":\"scatterpolargl\"}],\"scatterternary\":[{\"marker\":{\"colorbar\":{\"outlinewidth\":0,\"ticks\":\"\"}},\"type\":\"scatterternary\"}],\"surface\":[{\"colorbar\":{\"outlinewidth\":0,\"ticks\":\"\"},\"colorscale\":[[0.0,\"#0d0887\"],[0.1111111111111111,\"#46039f\"],[0.2222222222222222,\"#7201a8\"],[0.3333333333333333,\"#9c179e\"],[0.4444444444444444,\"#bd3786\"],[0.5555555555555556,\"#d8576b\"],[0.6666666666666666,\"#ed7953\"],[0.7777777777777778,\"#fb9f3a\"],[0.8888888888888888,\"#fdca26\"],[1.0,\"#f0f921\"]],\"type\":\"surface\"}],\"table\":[{\"cells\":{\"fill\":{\"color\":\"#EBF0F8\"},\"line\":{\"color\":\"white\"}},\"header\":{\"fill\":{\"color\":\"#C8D4E3\"},\"line\":{\"color\":\"white\"}},\"type\":\"table\"}]},\"layout\":{\"annotationdefaults\":{\"arrowcolor\":\"#2a3f5f\",\"arrowhead\":0,\"arrowwidth\":1},\"autotypenumbers\":\"strict\",\"coloraxis\":{\"colorbar\":{\"outlinewidth\":0,\"ticks\":\"\"}},\"colorscale\":{\"diverging\":[[0,\"#8e0152\"],[0.1,\"#c51b7d\"],[0.2,\"#de77ae\"],[0.3,\"#f1b6da\"],[0.4,\"#fde0ef\"],[0.5,\"#f7f7f7\"],[0.6,\"#e6f5d0\"],[0.7,\"#b8e186\"],[0.8,\"#7fbc41\"],[0.9,\"#4d9221\"],[1,\"#276419\"]],\"sequential\":[[0.0,\"#0d0887\"],[0.1111111111111111,\"#46039f\"],[0.2222222222222222,\"#7201a8\"],[0.3333333333333333,\"#9c179e\"],[0.4444444444444444,\"#bd3786\"],[0.5555555555555556,\"#d8576b\"],[0.6666666666666666,\"#ed7953\"],[0.7777777777777778,\"#fb9f3a\"],[0.8888888888888888,\"#fdca26\"],[1.0,\"#f0f921\"]],\"sequentialminus\":[[0.0,\"#0d0887\"],[0.1111111111111111,\"#46039f\"],[0.2222222222222222,\"#7201a8\"],[0.3333333333333333,\"#9c179e\"],[0.4444444444444444,\"#bd3786\"],[0.5555555555555556,\"#d8576b\"],[0.6666666666666666,\"#ed7953\"],[0.7777777777777778,\"#fb9f3a\"],[0.8888888888888888,\"#fdca26\"],[1.0,\"#f0f921\"]]},\"colorway\":[\"#636efa\",\"#EF553B\",\"#00cc96\",\"#ab63fa\",\"#FFA15A\",\"#19d3f3\",\"#FF6692\",\"#B6E880\",\"#FF97FF\",\"#FECB52\"],\"font\":{\"color\":\"#2a3f5f\"},\"geo\":{\"bgcolor\":\"white\",\"lakecolor\":\"white\",\"landcolor\":\"#E5ECF6\",\"showlakes\":true,\"showland\":true,\"subunitcolor\":\"white\"},\"hoverlabel\":{\"align\":\"left\"},\"hovermode\":\"closest\",\"mapbox\":{\"style\":\"light\"},\"paper_bgcolor\":\"white\",\"plot_bgcolor\":\"#E5ECF6\",\"polar\":{\"angularaxis\":{\"gridcolor\":\"white\",\"linecolor\":\"white\",\"ticks\":\"\"},\"bgcolor\":\"#E5ECF6\",\"radialaxis\":{\"gridcolor\":\"white\",\"linecolor\":\"white\",\"ticks\":\"\"}},\"scene\":{\"xaxis\":{\"backgroundcolor\":\"#E5ECF6\",\"gridcolor\":\"white\",\"gridwidth\":2,\"linecolor\":\"white\",\"showbackground\":true,\"ticks\":\"\",\"zerolinecolor\":\"white\"},\"yaxis\":{\"backgroundcolor\":\"#E5ECF6\",\"gridcolor\":\"white\",\"gridwidth\":2,\"linecolor\":\"white\",\"showbackground\":true,\"ticks\":\"\",\"zerolinecolor\":\"white\"},\"zaxis\":{\"backgroundcolor\":\"#E5ECF6\",\"gridcolor\":\"white\",\"gridwidth\":2,\"linecolor\":\"white\",\"showbackground\":true,\"ticks\":\"\",\"zerolinecolor\":\"white\"}},\"shapedefaults\":{\"line\":{\"color\":\"#2a3f5f\"}},\"ternary\":{\"aaxis\":{\"gridcolor\":\"white\",\"linecolor\":\"white\",\"ticks\":\"\"},\"baxis\":{\"gridcolor\":\"white\",\"linecolor\":\"white\",\"ticks\":\"\"},\"bgcolor\":\"#E5ECF6\",\"caxis\":{\"gridcolor\":\"white\",\"linecolor\":\"white\",\"ticks\":\"\"}},\"title\":{\"x\":0.05},\"xaxis\":{\"automargin\":true,\"gridcolor\":\"white\",\"linecolor\":\"white\",\"ticks\":\"\",\"title\":{\"standoff\":15},\"zerolinecolor\":\"white\",\"zerolinewidth\":2},\"yaxis\":{\"automargin\":true,\"gridcolor\":\"white\",\"linecolor\":\"white\",\"ticks\":\"\",\"title\":{\"standoff\":15},\"zerolinecolor\":\"white\",\"zerolinewidth\":2}}},\"xaxis\":{\"anchor\":\"y\",\"domain\":[0.0,1.0],\"title\":{\"text\":\"long\"}},\"yaxis\":{\"anchor\":\"x\",\"domain\":[0.0,1.0],\"title\":{\"text\":\"show_id\"}},\"legend\":{\"tracegroupgap\":0},\"margin\":{\"t\":60},\"barmode\":\"relative\"},                        {\"responsive\": true}                    ).then(function(){\n",
       "                            \n",
       "var gd = document.getElementById('8f333251-e05c-43a6-9cbe-079ab8a6fbe7');\n",
       "var x = new MutationObserver(function (mutations, observer) {{\n",
       "        var display = window.getComputedStyle(gd).display;\n",
       "        if (!display || display === 'none') {{\n",
       "            console.log([gd, 'removed!']);\n",
       "            Plotly.purge(gd);\n",
       "            observer.disconnect();\n",
       "        }}\n",
       "}});\n",
       "\n",
       "// Listen for the removal of the full notebook cells\n",
       "var notebookContainer = gd.closest('#notebook-container');\n",
       "if (notebookContainer) {{\n",
       "    x.observe(notebookContainer, {childList: true});\n",
       "}}\n",
       "\n",
       "// Listen for the clearing of the current output cell\n",
       "var outputEl = gd.closest('.output');\n",
       "if (outputEl) {{\n",
       "    x.observe(outputEl, {childList: true});\n",
       "}}\n",
       "\n",
       "                        })                };                });            </script>        </div>"
      ]
     },
     "metadata": {},
     "output_type": "display_data"
    }
   ],
   "source": [
    "time_to_screen = df.groupby(['long'])['show_id'].count().reset_index()\n",
    "\n",
    "fig = px.bar(time_to_screen, x='long', y = 'show_id')\n",
    "fig.show()"
   ]
  },
  {
   "cell_type": "markdown",
   "id": "b05a8741",
   "metadata": {
    "papermill": {
     "duration": 0.064134,
     "end_time": "2022-05-07T14:16:57.448972",
     "exception": false,
     "start_time": "2022-05-07T14:16:57.384838",
     "status": "completed"
    },
    "tags": []
   },
   "source": [
    "Here we can see that the majority of Netflix shows and movies are relased and are on Netflix within one year, this is likely due to the productions released by Netflix Studios \n",
    "\n",
    "Ensuring a regurlar catalogue of new shows entices the viewers to keep coming back to Netflix and keeps retention "
   ]
  }
 ],
 "metadata": {
  "kernelspec": {
   "display_name": "Python 3",
   "language": "python",
   "name": "python3"
  },
  "language_info": {
   "codemirror_mode": {
    "name": "ipython",
    "version": 3
   },
   "file_extension": ".py",
   "mimetype": "text/x-python",
   "name": "python",
   "nbconvert_exporter": "python",
   "pygments_lexer": "ipython3",
   "version": "3.7.12"
  },
  "papermill": {
   "default_parameters": {},
   "duration": 21.210897,
   "end_time": "2022-05-07T14:16:58.323647",
   "environment_variables": {},
   "exception": null,
   "input_path": "__notebook__.ipynb",
   "output_path": "__notebook__.ipynb",
   "parameters": {},
   "start_time": "2022-05-07T14:16:37.112750",
   "version": "2.3.3"
  }
 },
 "nbformat": 4,
 "nbformat_minor": 5
}
